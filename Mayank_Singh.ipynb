{
  "nbformat": 4,
  "nbformat_minor": 0,
  "metadata": {
    "colab": {
      "name": "Mayank_Singh.ipynb",
      "provenance": [],
      "collapsed_sections": [
        "E3qxT1l3Jmv_",
        "0uIblWAypg4o",
        "Z4_LBsg2pwuY",
        "x_wkEA5Ipurx",
        "e1ACMz_TqXRq",
        "bvZABBh2rWcf",
        "r0IrLmWUsav_"
      ]
    },
    "kernelspec": {
      "name": "python3",
      "display_name": "Python 3"
    },
    "language_info": {
      "name": "python"
    }
  },
  "cells": [
    {
      "cell_type": "markdown",
      "metadata": {
        "id": "LqnlCXKGJ3_O"
      },
      "source": [
        "This notebook contains basic to hard exercies for each library that you encounter in your data analytics journey. The emphasis here is to get familiar with the inbuilt functions of these libraries and get used to reading the documentation. Places with \n",
        "```python \n",
        "# ...\n",
        "``` \n",
        "require you to write code to complete the objective."
      ]
    },
    {
      "cell_type": "code",
      "metadata": {
        "id": "S_L5CesyVgMG"
      },
      "source": [
        "# Importing libraries\n",
        "import numpy as np\n",
        "import pandas as pd\n",
        "import matplotlib.pyplot as plt\n",
        "import seaborn as sns\n",
        "%matplotlib inline"
      ],
      "execution_count": null,
      "outputs": []
    },
    {
      "cell_type": "markdown",
      "metadata": {
        "id": "E3qxT1l3Jmv_"
      },
      "source": [
        "## Numpy"
      ]
    },
    {
      "cell_type": "markdown",
      "metadata": {
        "id": "pqyJ2FVqKHPX"
      },
      "source": [
        "1. Create a null vector of size 10\n",
        "\n",
        "Expected output: `[0. 0. 0. 0. 0. 0. 0. 0. 0. 0.]`\n",
        "\n"
      ]
    },
    {
      "cell_type": "code",
      "metadata": {
        "id": "OuwkcLo0JmNQ",
        "colab": {
          "base_uri": "https://localhost:8080/",
          "height": 178
        },
        "outputId": "c03db5fd-4121-45d6-d16c-96bee2de6aa7"
      },
      "source": [
        "Z = np.zeros(10)\n",
        "print(Z)"
      ],
      "execution_count": null,
      "outputs": [
        {
          "output_type": "error",
          "ename": "NameError",
          "evalue": "ignored",
          "traceback": [
            "\u001b[0;31m---------------------------------------------------------------------------\u001b[0m",
            "\u001b[0;31mNameError\u001b[0m                                 Traceback (most recent call last)",
            "\u001b[0;32m<ipython-input-2-99f22065243b>\u001b[0m in \u001b[0;36m<module>\u001b[0;34m()\u001b[0m\n\u001b[0;32m----> 1\u001b[0;31m \u001b[0mZ\u001b[0m \u001b[0;34m=\u001b[0m \u001b[0mnp\u001b[0m\u001b[0;34m.\u001b[0m\u001b[0mzeros\u001b[0m\u001b[0;34m(\u001b[0m\u001b[0;36m10\u001b[0m\u001b[0;34m)\u001b[0m\u001b[0;34m\u001b[0m\u001b[0;34m\u001b[0m\u001b[0m\n\u001b[0m\u001b[1;32m      2\u001b[0m \u001b[0mprint\u001b[0m\u001b[0;34m(\u001b[0m\u001b[0mZ\u001b[0m\u001b[0;34m)\u001b[0m\u001b[0;34m\u001b[0m\u001b[0;34m\u001b[0m\u001b[0m\n",
            "\u001b[0;31mNameError\u001b[0m: name 'np' is not defined"
          ]
        }
      ]
    },
    {
      "cell_type": "markdown",
      "metadata": {
        "id": "l1WtEdtuKhrI"
      },
      "source": [
        "2. Create a vector with values ranging from 10 to 39\n",
        "\n",
        "Expected output: `[10 11 12 13 14 15 16 17 18 19 20 21 22 23 24 25 26 27 28 29 30 31 32 33 34 35 36 37 38 39]`"
      ]
    },
    {
      "cell_type": "code",
      "metadata": {
        "id": "5DeUt45IKiCN",
        "colab": {
          "base_uri": "https://localhost:8080/"
        },
        "outputId": "41b6d6b8-9605-436b-b2d9-0c2f38b598df"
      },
      "source": [
        "Z = np.arange(10,40)\n",
        "print(Z)"
      ],
      "execution_count": null,
      "outputs": [
        {
          "output_type": "stream",
          "text": [
            "[10 11 12 13 14 15 16 17 18 19 20 21 22 23 24 25 26 27 28 29 30 31 32 33\n",
            " 34 35 36 37 38 39]\n"
          ],
          "name": "stdout"
        }
      ]
    },
    {
      "cell_type": "markdown",
      "metadata": {
        "id": "krEsOrGHK3oy"
      },
      "source": [
        "3. Reverse the above vector (Hint: use slicing)\n",
        "\n",
        "Expected output: `[39 38 37 36 35 34 33 32 31 30 29 28 27 26 25 24 23 22 21 20 19 18 17 16 15 14 13 12 11 10]`"
      ]
    },
    {
      "cell_type": "code",
      "metadata": {
        "id": "LxQDHVUWK3u-",
        "colab": {
          "base_uri": "https://localhost:8080/"
        },
        "outputId": "4c8d1ede-0ae6-43d5-bb9d-14978751ce0c"
      },
      "source": [
        "Z = Z[::-1]\n",
        "\n",
        "print(Z)"
      ],
      "execution_count": null,
      "outputs": [
        {
          "output_type": "stream",
          "text": [
            "[39 38 37 36 35 34 33 32 31 30 29 28 27 26 25 24 23 22 21 20 19 18 17 16\n",
            " 15 14 13 12 11 10]\n"
          ],
          "name": "stdout"
        }
      ]
    },
    {
      "cell_type": "markdown",
      "metadata": {
        "id": "zwXDmB_uLWyv"
      },
      "source": [
        "4. Create a 3x3 matrix with values ranging from 0 to 8\n",
        "\n",
        "Expected output:\n",
        "```\n",
        "[[0 1 2]\n",
        " [3 4 5]\n",
        " [6 7 8]]\n",
        " ```"
      ]
    },
    {
      "cell_type": "code",
      "metadata": {
        "id": "MBtv_l0JLW6d",
        "colab": {
          "base_uri": "https://localhost:8080/"
        },
        "outputId": "707017ac-e03e-442a-8b39-70fa5a716cc8"
      },
      "source": [
        "Z = np.array([[0,1,2],[3,4,5],[6,7,8]]) # ...\n",
        "print(Z)"
      ],
      "execution_count": null,
      "outputs": [
        {
          "output_type": "stream",
          "text": [
            "[[0 1 2]\n",
            " [3 4 5]\n",
            " [6 7 8]]\n"
          ],
          "name": "stdout"
        }
      ]
    },
    {
      "cell_type": "markdown",
      "metadata": {
        "id": "aGs7AwbxLgbZ"
      },
      "source": [
        "5. Create a 10x10 array with random values and find the minimum and maximum values. Also find the mean value"
      ]
    },
    {
      "cell_type": "code",
      "metadata": {
        "id": "LC7v8dlwLxQr",
        "colab": {
          "base_uri": "https://localhost:8080/"
        },
        "outputId": "754fe7b5-96bc-4669-d9f5-2b6815346051"
      },
      "source": [
        "Z = np.random.random((10,10))\n",
        "Zmin =  Z.min()\n",
        "Zmax = Z.max()\n",
        "Zmean = Z.mean()\n",
        "print(Zmin, Zmax, Zmean)"
      ],
      "execution_count": null,
      "outputs": [
        {
          "output_type": "stream",
          "text": [
            "0.0011669242624049447 0.9893616950947051 0.5342653376441054\n"
          ],
          "name": "stdout"
        }
      ]
    },
    {
      "cell_type": "markdown",
      "metadata": {
        "id": "_v_yoK7ALx39"
      },
      "source": [
        "6. Normalize a 5x5 random matrix ( Hint: (x -mean)/std )"
      ]
    },
    {
      "cell_type": "code",
      "metadata": {
        "id": "WJZaFlmmLvvH",
        "colab": {
          "base_uri": "https://localhost:8080/"
        },
        "outputId": "42df8c43-a30c-460c-8072-23a1228c7629"
      },
      "source": [
        "Z = np.random.random((5,5))\n",
        "Z = (Z-Z.mean())/Z.std()\n",
        "print(Z)"
      ],
      "execution_count": null,
      "outputs": [
        {
          "output_type": "stream",
          "text": [
            "[[-0.12424982  1.41432933  0.66943147  1.1220339  -1.36521546]\n",
            " [ 0.71008811 -0.27658201  0.73950813  0.39584891 -2.06838503]\n",
            " [-0.17737641  0.88911772  0.44768533  1.04882183 -0.10606143]\n",
            " [-0.72765771  0.79419849 -1.98498718  0.03358198 -1.49260066]\n",
            " [-0.02289155  1.01071434  0.10893616 -1.70547722  0.66718879]]\n"
          ],
          "name": "stdout"
        }
      ]
    },
    {
      "cell_type": "markdown",
      "metadata": {
        "id": "WPpIZvO2Mfj_"
      },
      "source": [
        "7. Multiply a 5x3 matrix by a 3x2 matrix (all elements of both matrices are 1)\n",
        "\n",
        "Expected output:\n",
        "```\n",
        "[[3. 3.]\n",
        " [3. 3.]\n",
        " [3. 3.]\n",
        " [3. 3.]\n",
        " [3. 3.]]\n",
        "```"
      ]
    },
    {
      "cell_type": "code",
      "metadata": {
        "id": "OvyZjMRWMftv",
        "colab": {
          "base_uri": "https://localhost:8080/"
        },
        "outputId": "bb5bf7a8-dc46-4b01-c211-cfe2425efb12"
      },
      "source": [
        "X=np.ones((5,3))\n",
        "Y=np.ones((3,2))\n",
        "Z = X @ Y\n",
        "print(Z)"
      ],
      "execution_count": null,
      "outputs": [
        {
          "output_type": "stream",
          "text": [
            "[[3. 3.]\n",
            " [3. 3.]\n",
            " [3. 3.]\n",
            " [3. 3.]\n",
            " [3. 3.]]\n"
          ],
          "name": "stdout"
        }
      ]
    },
    {
      "cell_type": "markdown",
      "metadata": {
        "id": "rMfmqe_4NcNf"
      },
      "source": [
        "8. How to find the most frequent value in an array? (Generate a random array and demonstrate)"
      ]
    },
    {
      "cell_type": "code",
      "metadata": {
        "id": "FYRrJcDQNcUf",
        "colab": {
          "base_uri": "https://localhost:8080/"
        },
        "outputId": "5d22f55a-f179-43a6-de5c-6e36310838ca"
      },
      "source": [
        "Z = np.random.randint(0,10,50)\n",
        "vals,counts = np.unique(Z, return_counts=True)\n",
        "index = np.argmax(counts)\n",
        "Z_mode = Z[index]\n",
        "print(Z_mode)"
      ],
      "execution_count": null,
      "outputs": [
        {
          "output_type": "stream",
          "text": [
            "0\n"
          ],
          "name": "stdout"
        }
      ]
    },
    {
      "cell_type": "markdown",
      "metadata": {
        "id": "TU9Rkz9qOEc3"
      },
      "source": [
        "9. Consider a large vector Z, compute Z to the power of 3 using 2 different methods"
      ]
    },
    {
      "cell_type": "code",
      "metadata": {
        "id": "Vm6lEJMeOEiX",
        "colab": {
          "base_uri": "https://localhost:8080/"
        },
        "outputId": "6d51c753-a8b3-4e0e-bdde-6eff8052c3a7"
      },
      "source": [
        "Z = np.random.rand(int(5e7))\n",
        "\n",
        "Z1 = Z**3\n",
        "Z2 = np.power(Z, 3)\n",
        "Z3 = pow(Z,3)\n",
        "print(Z1)\n",
        "print(Z2)\n",
        "print(Z3)"
      ],
      "execution_count": null,
      "outputs": [
        {
          "output_type": "stream",
          "text": [
            "[5.74855980e-01 5.77041562e-02 3.17310512e-01 ... 3.16219035e-05\n",
            " 6.37152924e-07 2.06776539e-02]\n",
            "[5.74855980e-01 5.77041562e-02 3.17310512e-01 ... 3.16219035e-05\n",
            " 6.37152924e-07 2.06776539e-02]\n",
            "[5.74855980e-01 5.77041562e-02 3.17310512e-01 ... 3.16219035e-05\n",
            " 6.37152924e-07 2.06776539e-02]\n"
          ],
          "name": "stdout"
        }
      ]
    },
    {
      "cell_type": "markdown",
      "metadata": {
        "id": "_qqq2l0dOlAp"
      },
      "source": [
        "10. Given a 1D array, negate all elements which are between 3 and 8, in place\n",
        "\n",
        "Hint: Use `<` and `>` to create indices\n",
        "\n",
        "Expected output: `[ 0  1  2  3 -4 -5 -6 -7  8  9 10]`"
      ]
    },
    {
      "cell_type": "code",
      "metadata": {
        "id": "RuiGERlNOlHu",
        "colab": {
          "base_uri": "https://localhost:8080/"
        },
        "outputId": "e729b87e-8316-47dd-89c6-8be9a142cba1"
      },
      "source": [
        "Z = np.arange(11)\n",
        "idx = (Z>3)&(Z<8)\n",
        "Z[idx] *= -1\n",
        "print(Z)"
      ],
      "execution_count": null,
      "outputs": [
        {
          "output_type": "stream",
          "text": [
            "[ 0  1  2  3 -4 -5 -6 -7  8  9 10]\n"
          ],
          "name": "stdout"
        }
      ]
    },
    {
      "cell_type": "markdown",
      "metadata": {
        "id": "yA3SN8PZPEKM"
      },
      "source": [
        "## Pandas"
      ]
    },
    {
      "cell_type": "markdown",
      "metadata": {
        "id": "z8_XtdvvPQKs"
      },
      "source": [
        "1. Create a DataFrame df from this dictionary data which has the index labels\n",
        "\n",
        "```python\n",
        "data = {'animal': ['cat', 'cat', 'snake', 'dog', 'dog', 'cat', 'snake', 'cat', 'dog', 'dog'],\n",
        "        'age': [2.5, 3, 0.5, np.nan, 5, 2, 4.5, np.nan, 7, 3],\n",
        "        'visits': [1, 3, 2, 3, 2, 3, 1, 1, 2, 1],\n",
        "        'priority': ['yes', 'yes', 'no', 'yes', 'no', 'no', 'no', 'yes', 'no', 'no']}\n",
        "\n",
        "labels = ['a', 'b', 'c', 'd', 'e', 'f', 'g', 'h', 'i', 'j']\n",
        "```\n"
      ]
    },
    {
      "cell_type": "code",
      "metadata": {
        "id": "xREF9gRGPLs2"
      },
      "source": [
        "data = {'animal': ['cat', 'cat', 'snake', 'dog', 'dog', 'cat', 'snake', 'cat', 'dog', 'dog'],\n",
        "        'age': [2.5, 3, 0.5, np.nan, 5, 2, 4.5, np.nan, 7, 3],\n",
        "        'visits': [1, 3, 2, 3, 2, 3, 1, 1, 2, 1],\n",
        "        'priority': ['yes', 'yes', 'no', 'yes', 'no', 'no', 'no', 'yes', 'no', 'no']}\n",
        "\n",
        "labels = ['a', 'b', 'c', 'd', 'e', 'f', 'g', 'h', 'i', 'j']\n",
        "\n",
        "df = pd.DataFrame(data, columns=['animal', 'age', 'visits', 'priority'], index= labels)\n",
        "df.index.name='labels'\n",
        "df\n"
      ],
      "execution_count": null,
      "outputs": []
    },
    {
      "cell_type": "markdown",
      "metadata": {
        "id": "3s66ibyiPaHG"
      },
      "source": [
        "2. Display a summary of the basic information about this DataFrame using a single method (Hint: read about `describe` method)"
      ]
    },
    {
      "cell_type": "code",
      "metadata": {
        "id": "ZSWpZp68PaNW",
        "colab": {
          "base_uri": "https://localhost:8080/",
          "height": 295
        },
        "outputId": "7b56020f-28ca-4667-e480-e7256a487d25"
      },
      "source": [
        "df.describe()"
      ],
      "execution_count": null,
      "outputs": [
        {
          "output_type": "execute_result",
          "data": {
            "text/html": [
              "<div>\n",
              "<style scoped>\n",
              "    .dataframe tbody tr th:only-of-type {\n",
              "        vertical-align: middle;\n",
              "    }\n",
              "\n",
              "    .dataframe tbody tr th {\n",
              "        vertical-align: top;\n",
              "    }\n",
              "\n",
              "    .dataframe thead th {\n",
              "        text-align: right;\n",
              "    }\n",
              "</style>\n",
              "<table border=\"1\" class=\"dataframe\">\n",
              "  <thead>\n",
              "    <tr style=\"text-align: right;\">\n",
              "      <th></th>\n",
              "      <th>age</th>\n",
              "      <th>visits</th>\n",
              "    </tr>\n",
              "  </thead>\n",
              "  <tbody>\n",
              "    <tr>\n",
              "      <th>count</th>\n",
              "      <td>8.000000</td>\n",
              "      <td>10.000000</td>\n",
              "    </tr>\n",
              "    <tr>\n",
              "      <th>mean</th>\n",
              "      <td>3.437500</td>\n",
              "      <td>1.900000</td>\n",
              "    </tr>\n",
              "    <tr>\n",
              "      <th>std</th>\n",
              "      <td>2.007797</td>\n",
              "      <td>0.875595</td>\n",
              "    </tr>\n",
              "    <tr>\n",
              "      <th>min</th>\n",
              "      <td>0.500000</td>\n",
              "      <td>1.000000</td>\n",
              "    </tr>\n",
              "    <tr>\n",
              "      <th>25%</th>\n",
              "      <td>2.375000</td>\n",
              "      <td>1.000000</td>\n",
              "    </tr>\n",
              "    <tr>\n",
              "      <th>50%</th>\n",
              "      <td>3.000000</td>\n",
              "      <td>2.000000</td>\n",
              "    </tr>\n",
              "    <tr>\n",
              "      <th>75%</th>\n",
              "      <td>4.625000</td>\n",
              "      <td>2.750000</td>\n",
              "    </tr>\n",
              "    <tr>\n",
              "      <th>max</th>\n",
              "      <td>7.000000</td>\n",
              "      <td>3.000000</td>\n",
              "    </tr>\n",
              "  </tbody>\n",
              "</table>\n",
              "</div>"
            ],
            "text/plain": [
              "            age     visits\n",
              "count  8.000000  10.000000\n",
              "mean   3.437500   1.900000\n",
              "std    2.007797   0.875595\n",
              "min    0.500000   1.000000\n",
              "25%    2.375000   1.000000\n",
              "50%    3.000000   2.000000\n",
              "75%    4.625000   2.750000\n",
              "max    7.000000   3.000000"
            ]
          },
          "metadata": {},
          "execution_count": 54
        }
      ]
    },
    {
      "cell_type": "markdown",
      "metadata": {
        "id": "_vF5KU14PiCV"
      },
      "source": [
        "3. Return the first 3 rows of the DataFrame `df` (Hint: use either `iloc` or `head`)\n",
        "\n"
      ]
    },
    {
      "cell_type": "code",
      "metadata": {
        "id": "GN1NneyePiHQ",
        "colab": {
          "base_uri": "https://localhost:8080/",
          "height": 295
        },
        "outputId": "e7253b38-2d5c-42e5-9f56-e4ae5e055959"
      },
      "source": [
        "df.describe()"
      ],
      "execution_count": null,
      "outputs": [
        {
          "output_type": "execute_result",
          "data": {
            "text/html": [
              "<div>\n",
              "<style scoped>\n",
              "    .dataframe tbody tr th:only-of-type {\n",
              "        vertical-align: middle;\n",
              "    }\n",
              "\n",
              "    .dataframe tbody tr th {\n",
              "        vertical-align: top;\n",
              "    }\n",
              "\n",
              "    .dataframe thead th {\n",
              "        text-align: right;\n",
              "    }\n",
              "</style>\n",
              "<table border=\"1\" class=\"dataframe\">\n",
              "  <thead>\n",
              "    <tr style=\"text-align: right;\">\n",
              "      <th></th>\n",
              "      <th>age</th>\n",
              "      <th>visits</th>\n",
              "    </tr>\n",
              "  </thead>\n",
              "  <tbody>\n",
              "    <tr>\n",
              "      <th>count</th>\n",
              "      <td>8.000000</td>\n",
              "      <td>10.000000</td>\n",
              "    </tr>\n",
              "    <tr>\n",
              "      <th>mean</th>\n",
              "      <td>3.437500</td>\n",
              "      <td>1.900000</td>\n",
              "    </tr>\n",
              "    <tr>\n",
              "      <th>std</th>\n",
              "      <td>2.007797</td>\n",
              "      <td>0.875595</td>\n",
              "    </tr>\n",
              "    <tr>\n",
              "      <th>min</th>\n",
              "      <td>0.500000</td>\n",
              "      <td>1.000000</td>\n",
              "    </tr>\n",
              "    <tr>\n",
              "      <th>25%</th>\n",
              "      <td>2.375000</td>\n",
              "      <td>1.000000</td>\n",
              "    </tr>\n",
              "    <tr>\n",
              "      <th>50%</th>\n",
              "      <td>3.000000</td>\n",
              "      <td>2.000000</td>\n",
              "    </tr>\n",
              "    <tr>\n",
              "      <th>75%</th>\n",
              "      <td>4.625000</td>\n",
              "      <td>2.750000</td>\n",
              "    </tr>\n",
              "    <tr>\n",
              "      <th>max</th>\n",
              "      <td>7.000000</td>\n",
              "      <td>3.000000</td>\n",
              "    </tr>\n",
              "  </tbody>\n",
              "</table>\n",
              "</div>"
            ],
            "text/plain": [
              "            age     visits\n",
              "count  8.000000  10.000000\n",
              "mean   3.437500   1.900000\n",
              "std    2.007797   0.875595\n",
              "min    0.500000   1.000000\n",
              "25%    2.375000   1.000000\n",
              "50%    3.000000   2.000000\n",
              "75%    4.625000   2.750000\n",
              "max    7.000000   3.000000"
            ]
          },
          "metadata": {},
          "execution_count": 55
        }
      ]
    },
    {
      "cell_type": "markdown",
      "metadata": {
        "id": "cLGPdfdtPpgl"
      },
      "source": [
        "4. Select just the 'animal' and 'age' columns from the DataFrame `df`."
      ]
    },
    {
      "cell_type": "code",
      "metadata": {
        "id": "_q2esBxrPpns",
        "colab": {
          "base_uri": "https://localhost:8080/",
          "height": 388
        },
        "outputId": "350bd012-c43a-4213-e719-962797bc59aa"
      },
      "source": [
        "cols =  [ \"animal\" , \"age\"]\n",
        "df[cols]"
      ],
      "execution_count": null,
      "outputs": [
        {
          "output_type": "execute_result",
          "data": {
            "text/html": [
              "<div>\n",
              "<style scoped>\n",
              "    .dataframe tbody tr th:only-of-type {\n",
              "        vertical-align: middle;\n",
              "    }\n",
              "\n",
              "    .dataframe tbody tr th {\n",
              "        vertical-align: top;\n",
              "    }\n",
              "\n",
              "    .dataframe thead th {\n",
              "        text-align: right;\n",
              "    }\n",
              "</style>\n",
              "<table border=\"1\" class=\"dataframe\">\n",
              "  <thead>\n",
              "    <tr style=\"text-align: right;\">\n",
              "      <th></th>\n",
              "      <th>animal</th>\n",
              "      <th>age</th>\n",
              "    </tr>\n",
              "    <tr>\n",
              "      <th>labels</th>\n",
              "      <th></th>\n",
              "      <th></th>\n",
              "    </tr>\n",
              "  </thead>\n",
              "  <tbody>\n",
              "    <tr>\n",
              "      <th>a</th>\n",
              "      <td>cat</td>\n",
              "      <td>2.5</td>\n",
              "    </tr>\n",
              "    <tr>\n",
              "      <th>b</th>\n",
              "      <td>cat</td>\n",
              "      <td>3.0</td>\n",
              "    </tr>\n",
              "    <tr>\n",
              "      <th>c</th>\n",
              "      <td>snake</td>\n",
              "      <td>0.5</td>\n",
              "    </tr>\n",
              "    <tr>\n",
              "      <th>d</th>\n",
              "      <td>dog</td>\n",
              "      <td>NaN</td>\n",
              "    </tr>\n",
              "    <tr>\n",
              "      <th>e</th>\n",
              "      <td>dog</td>\n",
              "      <td>5.0</td>\n",
              "    </tr>\n",
              "    <tr>\n",
              "      <th>f</th>\n",
              "      <td>cat</td>\n",
              "      <td>2.0</td>\n",
              "    </tr>\n",
              "    <tr>\n",
              "      <th>g</th>\n",
              "      <td>snake</td>\n",
              "      <td>4.5</td>\n",
              "    </tr>\n",
              "    <tr>\n",
              "      <th>h</th>\n",
              "      <td>cat</td>\n",
              "      <td>NaN</td>\n",
              "    </tr>\n",
              "    <tr>\n",
              "      <th>i</th>\n",
              "      <td>dog</td>\n",
              "      <td>7.0</td>\n",
              "    </tr>\n",
              "    <tr>\n",
              "      <th>j</th>\n",
              "      <td>dog</td>\n",
              "      <td>3.0</td>\n",
              "    </tr>\n",
              "  </tbody>\n",
              "</table>\n",
              "</div>"
            ],
            "text/plain": [
              "       animal  age\n",
              "labels            \n",
              "a         cat  2.5\n",
              "b         cat  3.0\n",
              "c       snake  0.5\n",
              "d         dog  NaN\n",
              "e         dog  5.0\n",
              "f         cat  2.0\n",
              "g       snake  4.5\n",
              "h         cat  NaN\n",
              "i         dog  7.0\n",
              "j         dog  3.0"
            ]
          },
          "metadata": {},
          "execution_count": 56
        }
      ]
    },
    {
      "cell_type": "markdown",
      "metadata": {
        "id": "IkRygI9zP4rd"
      },
      "source": [
        "5. Select the data in rows [3, 4, 8] and in columns ['animal', 'age']."
      ]
    },
    {
      "cell_type": "code",
      "metadata": {
        "id": "u9Ufl808P4wH",
        "colab": {
          "base_uri": "https://localhost:8080/",
          "height": 172
        },
        "outputId": "f4b94f1d-e245-4be7-8539-723331dca1a1"
      },
      "source": [
        "row_idx = ['c','d','h']\n",
        "cols = [\"animal\", \"age\"]\n",
        "df.loc[row_idx, cols]"
      ],
      "execution_count": null,
      "outputs": [
        {
          "output_type": "execute_result",
          "data": {
            "text/html": [
              "<div>\n",
              "<style scoped>\n",
              "    .dataframe tbody tr th:only-of-type {\n",
              "        vertical-align: middle;\n",
              "    }\n",
              "\n",
              "    .dataframe tbody tr th {\n",
              "        vertical-align: top;\n",
              "    }\n",
              "\n",
              "    .dataframe thead th {\n",
              "        text-align: right;\n",
              "    }\n",
              "</style>\n",
              "<table border=\"1\" class=\"dataframe\">\n",
              "  <thead>\n",
              "    <tr style=\"text-align: right;\">\n",
              "      <th></th>\n",
              "      <th>animal</th>\n",
              "      <th>age</th>\n",
              "    </tr>\n",
              "    <tr>\n",
              "      <th>labels</th>\n",
              "      <th></th>\n",
              "      <th></th>\n",
              "    </tr>\n",
              "  </thead>\n",
              "  <tbody>\n",
              "    <tr>\n",
              "      <th>c</th>\n",
              "      <td>snake</td>\n",
              "      <td>0.5</td>\n",
              "    </tr>\n",
              "    <tr>\n",
              "      <th>d</th>\n",
              "      <td>dog</td>\n",
              "      <td>NaN</td>\n",
              "    </tr>\n",
              "    <tr>\n",
              "      <th>h</th>\n",
              "      <td>cat</td>\n",
              "      <td>NaN</td>\n",
              "    </tr>\n",
              "  </tbody>\n",
              "</table>\n",
              "</div>"
            ],
            "text/plain": [
              "       animal  age\n",
              "labels            \n",
              "c       snake  0.5\n",
              "d         dog  NaN\n",
              "h         cat  NaN"
            ]
          },
          "metadata": {},
          "execution_count": 57
        }
      ]
    },
    {
      "cell_type": "markdown",
      "metadata": {
        "id": "YXhVq4LXQ6AN"
      },
      "source": [
        "6. Select only the rows where the number of visits is greater than 3."
      ]
    },
    {
      "cell_type": "code",
      "metadata": {
        "id": "oqdD6FXXQ7sH",
        "colab": {
          "base_uri": "https://localhost:8080/",
          "height": 80
        },
        "outputId": "3f290481-4599-4d6a-afac-ed9339cbcaa7"
      },
      "source": [
        "idx = df['visits']>3\n",
        "df[idx]\n",
        "#df [df ['visits'] > 3]"
      ],
      "execution_count": null,
      "outputs": [
        {
          "output_type": "execute_result",
          "data": {
            "text/html": [
              "<div>\n",
              "<style scoped>\n",
              "    .dataframe tbody tr th:only-of-type {\n",
              "        vertical-align: middle;\n",
              "    }\n",
              "\n",
              "    .dataframe tbody tr th {\n",
              "        vertical-align: top;\n",
              "    }\n",
              "\n",
              "    .dataframe thead th {\n",
              "        text-align: right;\n",
              "    }\n",
              "</style>\n",
              "<table border=\"1\" class=\"dataframe\">\n",
              "  <thead>\n",
              "    <tr style=\"text-align: right;\">\n",
              "      <th></th>\n",
              "      <th>animal</th>\n",
              "      <th>age</th>\n",
              "      <th>visits</th>\n",
              "      <th>priority</th>\n",
              "    </tr>\n",
              "    <tr>\n",
              "      <th>labels</th>\n",
              "      <th></th>\n",
              "      <th></th>\n",
              "      <th></th>\n",
              "      <th></th>\n",
              "    </tr>\n",
              "  </thead>\n",
              "  <tbody>\n",
              "  </tbody>\n",
              "</table>\n",
              "</div>"
            ],
            "text/plain": [
              "Empty DataFrame\n",
              "Columns: [animal, age, visits, priority]\n",
              "Index: []"
            ]
          },
          "metadata": {},
          "execution_count": 58
        }
      ]
    },
    {
      "cell_type": "markdown",
      "metadata": {
        "id": "Y6OF0QMKRBSd"
      },
      "source": [
        "7. Calculate the mean age for each different animal in `df`. (Hint: use `groupby`)"
      ]
    },
    {
      "cell_type": "code",
      "metadata": {
        "id": "_Iwprc6aRLEj",
        "colab": {
          "base_uri": "https://localhost:8080/",
          "height": 163
        },
        "outputId": "64c0a1ec-6e8c-4bc6-f13d-5cc8677fc696"
      },
      "source": [
        " df.groupby('animal')['age'].mean()"
      ],
      "execution_count": null,
      "outputs": [
        {
          "output_type": "error",
          "ename": "NameError",
          "evalue": "ignored",
          "traceback": [
            "\u001b[0;31m---------------------------------------------------------------------------\u001b[0m",
            "\u001b[0;31mNameError\u001b[0m                                 Traceback (most recent call last)",
            "\u001b[0;32m<ipython-input-21-d95e2968d5f0>\u001b[0m in \u001b[0;36m<module>\u001b[0;34m()\u001b[0m\n\u001b[0;32m----> 1\u001b[0;31m \u001b[0mdf\u001b[0m\u001b[0;34m.\u001b[0m\u001b[0mgroupby\u001b[0m\u001b[0;34m(\u001b[0m\u001b[0;34m'animal'\u001b[0m\u001b[0;34m)\u001b[0m\u001b[0;34m[\u001b[0m\u001b[0;34m'age'\u001b[0m\u001b[0;34m]\u001b[0m\u001b[0;34m.\u001b[0m\u001b[0mmean\u001b[0m\u001b[0;34m(\u001b[0m\u001b[0;34m)\u001b[0m\u001b[0;34m\u001b[0m\u001b[0;34m\u001b[0m\u001b[0m\n\u001b[0m",
            "\u001b[0;31mNameError\u001b[0m: name 'df' is not defined"
          ]
        }
      ]
    },
    {
      "cell_type": "markdown",
      "metadata": {
        "id": "522H21ZqRRRE"
      },
      "source": [
        "8. Count the number of each type of animal in df"
      ]
    },
    {
      "cell_type": "code",
      "metadata": {
        "id": "2o31JmCTRBXe",
        "colab": {
          "base_uri": "https://localhost:8080/"
        },
        "outputId": "5887b7d7-34e3-4b4b-8a04-2a1809344487"
      },
      "source": [
        "df['animal'].value_counts()"
      ],
      "execution_count": null,
      "outputs": [
        {
          "output_type": "execute_result",
          "data": {
            "text/plain": [
              "cat      4\n",
              "dog      4\n",
              "snake    2\n",
              "Name: animal, dtype: int64"
            ]
          },
          "metadata": {},
          "execution_count": 60
        }
      ]
    },
    {
      "cell_type": "markdown",
      "metadata": {
        "id": "A2p_1gV0RfGH"
      },
      "source": [
        "9. Given the random data `xs` and `ys`, make a scatter plot utilising the Pandas `plot` method"
      ]
    },
    {
      "cell_type": "code",
      "metadata": {
        "id": "nLE7KX4DRfKs",
        "colab": {
          "base_uri": "https://localhost:8080/",
          "height": 296
        },
        "outputId": "7c3d7abb-1cff-4f50-ff3f-59c3f0fd90c0"
      },
      "source": [
        "xs = [1,5,2,8,1]\n",
        "ys = [4,2,1,9,6]\n",
        "\n",
        "df = pd.DataFrame({\"xs\": xs, \"ys\": ys})\n",
        "plt.scatter(xs,ys)\n",
        "plt.xlabel(\"xs\")\n",
        "plt.ylabel(\"ys\")"
      ],
      "execution_count": null,
      "outputs": [
        {
          "output_type": "execute_result",
          "data": {
            "text/plain": [
              "Text(0, 0.5, 'ys')"
            ]
          },
          "metadata": {},
          "execution_count": 63
        },
        {
          "output_type": "display_data",
          "data": {
            "image/png": "[encoded data removed]",
            "text/plain": [
              "<Figure size 432x288 with 1 Axes>"
            ]
          },
          "metadata": {
            "needs_background": "light"
          }
        }
      ]
    },
    {
      "cell_type": "markdown",
      "metadata": {
        "id": "uvH0t9yRSiVk"
      },
      "source": [
        "10. Plot a bar graph representing the mean age of each animal"
      ]
    },
    {
      "cell_type": "code",
      "metadata": {
        "id": "F4-Oo3dKSiek",
        "colab": {
          "base_uri": "https://localhost:8080/",
          "height": 370
        },
        "outputId": "891c014a-c1a0-436c-ad8e-35d86ef707ee"
      },
      "source": [
        "array1=[]\n",
        "for i in range (3):\n",
        "  array1.append(df.groupby('animal')['age'].mean()[i])\n",
        "\n",
        "array2=pd.unique(df['animal'])\n",
        "print(array2)\n",
        "\n",
        "plt.bar(array2, array1)"
      ],
      "execution_count": null,
      "outputs": [
        {
          "output_type": "error",
          "ename": "KeyError",
          "evalue": "ignored",
          "traceback": [
            "\u001b[0;31m---------------------------------------------------------------------------\u001b[0m",
            "\u001b[0;31mKeyError\u001b[0m                                  Traceback (most recent call last)",
            "\u001b[0;32m<ipython-input-64-6d921d9d5980>\u001b[0m in \u001b[0;36m<module>\u001b[0;34m()\u001b[0m\n\u001b[1;32m      1\u001b[0m \u001b[0marray1\u001b[0m\u001b[0;34m=\u001b[0m\u001b[0;34m[\u001b[0m\u001b[0;34m]\u001b[0m\u001b[0;34m\u001b[0m\u001b[0;34m\u001b[0m\u001b[0m\n\u001b[1;32m      2\u001b[0m \u001b[0;32mfor\u001b[0m \u001b[0mi\u001b[0m \u001b[0;32min\u001b[0m \u001b[0mrange\u001b[0m \u001b[0;34m(\u001b[0m\u001b[0;36m3\u001b[0m\u001b[0;34m)\u001b[0m\u001b[0;34m:\u001b[0m\u001b[0;34m\u001b[0m\u001b[0;34m\u001b[0m\u001b[0m\n\u001b[0;32m----> 3\u001b[0;31m   \u001b[0marray1\u001b[0m\u001b[0;34m.\u001b[0m\u001b[0mappend\u001b[0m\u001b[0;34m(\u001b[0m\u001b[0mdf\u001b[0m\u001b[0;34m.\u001b[0m\u001b[0mgroupby\u001b[0m\u001b[0;34m(\u001b[0m\u001b[0;34m'animal'\u001b[0m\u001b[0;34m)\u001b[0m\u001b[0;34m[\u001b[0m\u001b[0;34m'age'\u001b[0m\u001b[0;34m]\u001b[0m\u001b[0;34m.\u001b[0m\u001b[0mmean\u001b[0m\u001b[0;34m(\u001b[0m\u001b[0;34m)\u001b[0m\u001b[0;34m[\u001b[0m\u001b[0mi\u001b[0m\u001b[0;34m]\u001b[0m\u001b[0;34m)\u001b[0m\u001b[0;34m\u001b[0m\u001b[0;34m\u001b[0m\u001b[0m\n\u001b[0m\u001b[1;32m      4\u001b[0m \u001b[0;34m\u001b[0m\u001b[0m\n\u001b[1;32m      5\u001b[0m \u001b[0marray2\u001b[0m\u001b[0;34m=\u001b[0m\u001b[0mpd\u001b[0m\u001b[0;34m.\u001b[0m\u001b[0munique\u001b[0m\u001b[0;34m(\u001b[0m\u001b[0mdf\u001b[0m\u001b[0;34m[\u001b[0m\u001b[0;34m'animal'\u001b[0m\u001b[0;34m]\u001b[0m\u001b[0;34m)\u001b[0m\u001b[0;34m\u001b[0m\u001b[0;34m\u001b[0m\u001b[0m\n",
            "\u001b[0;32m/usr/local/lib/python3.7/dist-packages/pandas/core/frame.py\u001b[0m in \u001b[0;36mgroupby\u001b[0;34m(self, by, axis, level, as_index, sort, group_keys, squeeze, observed, dropna)\u001b[0m\n\u001b[1;32m   6523\u001b[0m             \u001b[0msqueeze\u001b[0m\u001b[0;34m=\u001b[0m\u001b[0msqueeze\u001b[0m\u001b[0;34m,\u001b[0m\u001b[0;34m\u001b[0m\u001b[0;34m\u001b[0m\u001b[0m\n\u001b[1;32m   6524\u001b[0m             \u001b[0mobserved\u001b[0m\u001b[0;34m=\u001b[0m\u001b[0mobserved\u001b[0m\u001b[0;34m,\u001b[0m\u001b[0;34m\u001b[0m\u001b[0;34m\u001b[0m\u001b[0m\n\u001b[0;32m-> 6525\u001b[0;31m             \u001b[0mdropna\u001b[0m\u001b[0;34m=\u001b[0m\u001b[0mdropna\u001b[0m\u001b[0;34m,\u001b[0m\u001b[0;34m\u001b[0m\u001b[0;34m\u001b[0m\u001b[0m\n\u001b[0m\u001b[1;32m   6526\u001b[0m         )\n\u001b[1;32m   6527\u001b[0m \u001b[0;34m\u001b[0m\u001b[0m\n",
            "\u001b[0;32m/usr/local/lib/python3.7/dist-packages/pandas/core/groupby/groupby.py\u001b[0m in \u001b[0;36m__init__\u001b[0;34m(self, obj, keys, axis, level, grouper, exclusions, selection, as_index, sort, group_keys, squeeze, observed, mutated, dropna)\u001b[0m\n\u001b[1;32m    531\u001b[0m                 \u001b[0mobserved\u001b[0m\u001b[0;34m=\u001b[0m\u001b[0mobserved\u001b[0m\u001b[0;34m,\u001b[0m\u001b[0;34m\u001b[0m\u001b[0;34m\u001b[0m\u001b[0m\n\u001b[1;32m    532\u001b[0m                 \u001b[0mmutated\u001b[0m\u001b[0;34m=\u001b[0m\u001b[0mself\u001b[0m\u001b[0;34m.\u001b[0m\u001b[0mmutated\u001b[0m\u001b[0;34m,\u001b[0m\u001b[0;34m\u001b[0m\u001b[0;34m\u001b[0m\u001b[0m\n\u001b[0;32m--> 533\u001b[0;31m                 \u001b[0mdropna\u001b[0m\u001b[0;34m=\u001b[0m\u001b[0mself\u001b[0m\u001b[0;34m.\u001b[0m\u001b[0mdropna\u001b[0m\u001b[0;34m,\u001b[0m\u001b[0;34m\u001b[0m\u001b[0;34m\u001b[0m\u001b[0m\n\u001b[0m\u001b[1;32m    534\u001b[0m             )\n\u001b[1;32m    535\u001b[0m \u001b[0;34m\u001b[0m\u001b[0m\n",
            "\u001b[0;32m/usr/local/lib/python3.7/dist-packages/pandas/core/groupby/grouper.py\u001b[0m in \u001b[0;36mget_grouper\u001b[0;34m(obj, key, axis, level, sort, observed, mutated, validate, dropna)\u001b[0m\n\u001b[1;32m    784\u001b[0m                 \u001b[0min_axis\u001b[0m\u001b[0;34m,\u001b[0m \u001b[0mname\u001b[0m\u001b[0;34m,\u001b[0m \u001b[0mlevel\u001b[0m\u001b[0;34m,\u001b[0m \u001b[0mgpr\u001b[0m \u001b[0;34m=\u001b[0m \u001b[0;32mFalse\u001b[0m\u001b[0;34m,\u001b[0m \u001b[0;32mNone\u001b[0m\u001b[0;34m,\u001b[0m \u001b[0mgpr\u001b[0m\u001b[0;34m,\u001b[0m \u001b[0;32mNone\u001b[0m\u001b[0;34m\u001b[0m\u001b[0;34m\u001b[0m\u001b[0m\n\u001b[1;32m    785\u001b[0m             \u001b[0;32melse\u001b[0m\u001b[0;34m:\u001b[0m\u001b[0;34m\u001b[0m\u001b[0;34m\u001b[0m\u001b[0m\n\u001b[0;32m--> 786\u001b[0;31m                 \u001b[0;32mraise\u001b[0m \u001b[0mKeyError\u001b[0m\u001b[0;34m(\u001b[0m\u001b[0mgpr\u001b[0m\u001b[0;34m)\u001b[0m\u001b[0;34m\u001b[0m\u001b[0;34m\u001b[0m\u001b[0m\n\u001b[0m\u001b[1;32m    787\u001b[0m         \u001b[0;32melif\u001b[0m \u001b[0misinstance\u001b[0m\u001b[0;34m(\u001b[0m\u001b[0mgpr\u001b[0m\u001b[0;34m,\u001b[0m \u001b[0mGrouper\u001b[0m\u001b[0;34m)\u001b[0m \u001b[0;32mand\u001b[0m \u001b[0mgpr\u001b[0m\u001b[0;34m.\u001b[0m\u001b[0mkey\u001b[0m \u001b[0;32mis\u001b[0m \u001b[0;32mnot\u001b[0m \u001b[0;32mNone\u001b[0m\u001b[0;34m:\u001b[0m\u001b[0;34m\u001b[0m\u001b[0;34m\u001b[0m\u001b[0m\n\u001b[1;32m    788\u001b[0m             \u001b[0;31m# Add key to exclusions\u001b[0m\u001b[0;34m\u001b[0m\u001b[0;34m\u001b[0m\u001b[0;34m\u001b[0m\u001b[0m\n",
            "\u001b[0;31mKeyError\u001b[0m: 'animal'"
          ]
        }
      ]
    },
    {
      "cell_type": "markdown",
      "metadata": {
        "id": "d5N4bol2T2Xd"
      },
      "source": [
        "## Make a simple Linear Regression Model"
      ]
    },
    {
      "cell_type": "markdown",
      "metadata": {
        "id": "8AoIjszRjJ8D"
      },
      "source": [
        "### Linear Regression from scratch"
      ]
    },
    {
      "cell_type": "markdown",
      "metadata": {
        "id": "1uQjO45HhNzB"
      },
      "source": [
        "We will start with the most familiar linear regression, a straight-line fit to data.\n",
        "A straight-line fit is a model of the form\n",
        "$$\n",
        "y = ax + b\n",
        "$$\n",
        "where $a$ is commonly known as the *slope*, and $b$ is commonly known as the *intercept*.\n",
        "\n",
        "Consider the following data, which is scattered about a line with a slope of 2 and an intercept of -5"
      ]
    },
    {
      "cell_type": "code",
      "metadata": {
        "id": "tTWWnzsbT2ek",
        "colab": {
          "base_uri": "https://localhost:8080/",
          "height": 265
        },
        "outputId": "f7523848-47c5-4586-e64b-772dc0c2eead"
      },
      "source": [
        "import numpy as np\n",
        "import pandas as pd\n",
        "import matplotlib.pyplot as plt\n",
        "import seaborn as sns\n",
        "rng = np.random.RandomState(1)\n",
        "x = 10 * rng.rand(50)\n",
        "y = 2 * x - 5 + rng.randn(50)\n",
        "plt.scatter(x, y);"
      ],
      "execution_count": null,
      "outputs": [
        {
          "output_type": "display_data",
          "data": {
            "image/png": "[encoded data removed]",
            "text/plain": [
              "<Figure size 432x288 with 1 Axes>"
            ]
          },
          "metadata": {
            "needs_background": "light"
          }
        }
      ]
    },
    {
      "cell_type": "markdown",
      "metadata": {
        "id": "WBS61IRcVzZn"
      },
      "source": [
        "We will now build a simple linear regression model to fit this set of points. Firstly, define the hypothesis function"
      ]
    },
    {
      "cell_type": "code",
      "metadata": {
        "id": "eg_AnaNGXYtU"
      },
      "source": [
        "def h(x, a, b):\n",
        "  return a*x+b"
      ],
      "execution_count": null,
      "outputs": []
    },
    {
      "cell_type": "markdown",
      "metadata": {
        "id": "x_tGjm2waFG8"
      },
      "source": [
        "Next, we define the cost function which returns a single float value given the input X, parameters and ground truth Y. Remember that $$ J = \\frac{\\sum\\limits_{i=1}^m (h(x^i) - y^i)^2}{2m} $$"
      ]
    },
    {
      "cell_type": "code",
      "metadata": {
        "id": "xBPJsuuxakpU"
      },
      "source": [
        "def cost_function(X, Y, a, b):\n",
        "  y_pred = h(X, a, b) # Use h(x, a, b) defined above\n",
        "  m = len(X)\n",
        "  J = np.sum(np.power((y_pred - Y), 2))/(2*m)\n",
        "  return J"
      ],
      "execution_count": null,
      "outputs": []
    },
    {
      "cell_type": "markdown",
      "metadata": {
        "id": "M1iwpSCZc4br"
      },
      "source": [
        "In order to perform gradient descent, you need to calculate the derivative of each parameter with respect to the cost function. Remember the formulae:\n",
        "\n",
        "$$\n",
        "\\frac{dJ}{da} = \\frac{\\sum\\limits_{i=1}^m (h(x^i) - y^i).x^i}{m}\n",
        "$$\n",
        " \n",
        "and\n",
        "\n",
        "$$\n",
        "\\frac{dJ}{db} = \\frac{\\sum\\limits_{i=1}^m (h(x^i) - y^i)}{m}\n",
        "$$"
      ]
    },
    {
      "cell_type": "code",
      "metadata": {
        "id": "5qSraaMMbdyL"
      },
      "source": [
        "def gradients(X, Y, a, b):\n",
        "  y_pred = h(X, a, b) # Use h(x, a, b) defined above\n",
        "  m = len(X) # ...\n",
        "  temp = np.power((y_pred - Y), 1)\n",
        "  grad_a = np.sum(temp * X)/len(X)\n",
        "  grad_b = np.sum(temp)/len(X)\n",
        "  return grad_a, grad_b"
      ],
      "execution_count": null,
      "outputs": []
    },
    {
      "cell_type": "markdown",
      "metadata": {
        "id": "loht93wDfC5a"
      },
      "source": [
        "Finally, we define the gradient descent function which will carry out the optimisation. Remember the gradient descent step:\n",
        "\n",
        "$$\n",
        "a = a - \\alpha \\times \\frac{dJ}{da}\n",
        "$$\n",
        "\n",
        "and\n",
        "\n",
        "$$\n",
        "b = b - \\alpha \\times \\frac{dJ}{db}\n",
        "$$"
      ]
    },
    {
      "cell_type": "code",
      "metadata": {
        "id": "SaHmNA9tbG0D"
      },
      "source": [
        "def gradient_descent(X, Y, a, b, learning_rate, iterations):\n",
        "    \n",
        "    for iteration in range(iterations):\n",
        " \n",
        "        loss = cost_function(X, Y, a, b)\n",
        "        grad_a, grad_b = gradients(X, Y, a, b)\n",
        "\n",
        "        # Define the gradient descent step\n",
        "        a = a - grad_a * learning_rate \n",
        "        b = b - grad_b * learning_rate\n",
        "\n",
        "        if iteration%10 == 0:\n",
        "          print(f\"Iteration: {iteration} | Loss: {loss}\")\n",
        "        \n",
        "    return a, b"
      ],
      "execution_count": null,
      "outputs": []
    },
    {
      "cell_type": "markdown",
      "metadata": {
        "id": "p7L29PDVfyty"
      },
      "source": [
        "Now we will run the gradient descent algorithm. First you will need to define the intial values of $a$ and $b$ as well as the hyperparameters (learning rate and number of iterations)"
      ]
    },
    {
      "cell_type": "code",
      "metadata": {
        "id": "2byfJ7_FfxOK"
      },
      "source": [
        "a = 2\n",
        "b = 3\n",
        "learning_rate = 0.01\n",
        "num_iterations = 1000"
      ],
      "execution_count": null,
      "outputs": []
    },
    {
      "cell_type": "code",
      "metadata": {
        "id": "nwRyD8qqciSC",
        "colab": {
          "base_uri": "https://localhost:8080/"
        },
        "outputId": "c5d62d54-dc26-4b21-f74c-61d877713b77"
      },
      "source": [
        "a, b = gradient_descent(x, y, a, b, learning_rate, num_iterations)"
      ],
      "execution_count": null,
      "outputs": [
        {
          "output_type": "stream",
          "text": [
            "Iteration: 0 | Loss: 31.39302152198845\n",
            "Iteration: 10 | Loss: 9.06189672350082\n",
            "Iteration: 20 | Loss: 8.559457607171971\n",
            "Iteration: 30 | Loss: 8.09528023337966\n",
            "Iteration: 40 | Loss: 7.657543081676997\n",
            "Iteration: 50 | Loss: 7.244735811190497\n",
            "Iteration: 60 | Loss: 6.85543862044429\n",
            "Iteration: 70 | Loss: 6.4883125702062\n",
            "Iteration: 80 | Loss: 6.142094976123202\n",
            "Iteration: 90 | Loss: 5.815595065874715\n",
            "Iteration: 100 | Loss: 5.507689883659406\n",
            "Iteration: 110 | Loss: 5.2173204279285015\n",
            "Iteration: 120 | Loss: 4.943488009081769\n",
            "Iteration: 130 | Loss: 4.68525081459895\n",
            "Iteration: 140 | Loss: 4.441720669792821\n",
            "Iteration: 150 | Loss: 4.212059983042913\n",
            "Iteration: 160 | Loss: 3.9954788650033803\n",
            "Iteration: 170 | Loss: 3.7912324118769334\n",
            "Iteration: 180 | Loss: 3.5986181434109272\n",
            "Iteration: 190 | Loss: 3.4169735868039823\n",
            "Iteration: 200 | Loss: 3.2456739982132388\n",
            "Iteration: 210 | Loss: 3.0841302140256754\n",
            "Iteration: 220 | Loss: 2.931786624503198\n",
            "Iteration: 230 | Loss: 2.7881192628320917\n",
            "Iteration: 240 | Loss: 2.6526340030043998\n",
            "Iteration: 250 | Loss: 2.5248648603330124\n",
            "Iteration: 260 | Loss: 2.404372388755345\n",
            "Iteration: 270 | Loss: 2.2907421694132966\n",
            "Iteration: 280 | Loss: 2.183583385311178\n",
            "Iteration: 290 | Loss: 2.0825274771492968\n",
            "Iteration: 300 | Loss: 1.9872268757101212\n",
            "Iteration: 310 | Loss: 1.8973538064372217\n",
            "Iteration: 320 | Loss: 1.8125991620954807\n",
            "Iteration: 330 | Loss: 1.7326714396352307\n",
            "Iteration: 340 | Loss: 1.6572957376038022\n",
            "Iteration: 350 | Loss: 1.5862128106561955\n",
            "Iteration: 360 | Loss: 1.5191781779129807\n",
            "Iteration: 370 | Loss: 1.455961282098744\n",
            "Iteration: 380 | Loss: 1.3963446965690425\n",
            "Iteration: 390 | Loss: 1.3401233774985208\n",
            "Iteration: 400 | Loss: 1.2871039586581927\n",
            "Iteration: 410 | Loss: 1.23710408635637\n",
            "Iteration: 420 | Loss: 1.1899517922558354\n",
            "Iteration: 430 | Loss: 1.1454849019101514\n",
            "Iteration: 440 | Loss: 1.1035504769848403\n",
            "Iteration: 450 | Loss: 1.0640042892450183\n",
            "Iteration: 460 | Loss: 1.0267103245003304\n",
            "Iteration: 470 | Loss: 0.9915403148010781\n",
            "Iteration: 480 | Loss: 0.9583732972765674\n",
            "Iteration: 490 | Loss: 0.9270951980983765\n",
            "Iteration: 500 | Loss: 0.8975984401376169\n",
            "Iteration: 510 | Loss: 0.8697815729667921\n",
            "Iteration: 520 | Loss: 0.8435489239336772\n",
            "Iteration: 530 | Loss: 0.8188102691071438\n",
            "Iteration: 540 | Loss: 0.7954805229631766\n",
            "Iteration: 550 | Loss: 0.7734794457438042\n",
            "Iteration: 560 | Loss: 0.7527313674824404\n",
            "Iteration: 570 | Loss: 0.7331649277464521\n",
            "Iteration: 580 | Loss: 0.7147128302018334\n",
            "Iteration: 590 | Loss: 0.6973116111558416\n",
            "Iteration: 600 | Loss: 0.6809014212815266\n",
            "Iteration: 610 | Loss: 0.6654258197734179\n",
            "Iteration: 620 | Loss: 0.6508315802264018\n",
            "Iteration: 630 | Loss: 0.6370685075701248\n",
            "Iteration: 640 | Loss: 0.6240892654292973\n",
            "Iteration: 650 | Loss: 0.6118492133161237\n",
            "Iteration: 660 | Loss: 0.6003062530948994\n",
            "Iteration: 670 | Loss: 0.5894206841907141\n",
            "Iteration: 680 | Loss: 0.5791550670442664\n",
            "Iteration: 690 | Loss: 0.5694740943431598\n",
            "Iteration: 700 | Loss: 0.560344469586794\n",
            "Iteration: 710 | Loss: 0.551734792567199\n",
            "Iteration: 720 | Loss: 0.5436154513719267\n",
            "Iteration: 730 | Loss: 0.5359585205375635\n",
            "Iteration: 740 | Loss: 0.5287376650035741\n",
            "Iteration: 750 | Loss: 0.5219280495361417\n",
            "Iteration: 760 | Loss: 0.5155062533104698\n",
            "Iteration: 770 | Loss: 0.5094501893577716\n",
            "Iteration: 780 | Loss: 0.5037390285998901\n",
            "Iteration: 790 | Loss: 0.49835312821027533\n",
            "Iteration: 800 | Loss: 0.49327396405492896\n",
            "Iteration: 810 | Loss: 0.4884840669809507\n",
            "Iteration: 820 | Loss: 0.483966962733561\n",
            "Iteration: 830 | Loss: 0.47970711529495225\n",
            "Iteration: 840 | Loss: 0.4756898734500893\n",
            "Iteration: 850 | Loss: 0.4719014203956793\n",
            "Iteration: 860 | Loss: 0.4683287262189967\n",
            "Iteration: 870 | Loss: 0.4649595030831192\n",
            "Iteration: 880 | Loss: 0.46178216296444424\n",
            "Iteration: 890 | Loss: 0.4587857777971216\n",
            "Iteration: 900 | Loss: 0.4559600418873334\n",
            "Iteration: 910 | Loss: 0.4532952364681422\n",
            "Iteration: 920 | Loss: 0.4507821962730009\n",
            "Iteration: 930 | Loss: 0.4484122780129609\n",
            "Iteration: 940 | Loss: 0.4461773306491542\n",
            "Iteration: 950 | Loss: 0.4440696673583106\n",
            "Iteration: 960 | Loss: 0.442082039094885\n",
            "Iteration: 970 | Loss: 0.4402076096588688\n",
            "Iteration: 980 | Loss: 0.4384399321835305\n",
            "Iteration: 990 | Loss: 0.43677292696221903\n"
          ],
          "name": "stdout"
        }
      ]
    },
    {
      "cell_type": "markdown",
      "metadata": {
        "id": "CLH0jk_QgRVC"
      },
      "source": [
        "Now let's visualise the line that we got"
      ]
    },
    {
      "cell_type": "code",
      "metadata": {
        "id": "PcT2m1lfgUTF",
        "colab": {
          "base_uri": "https://localhost:8080/",
          "height": 265
        },
        "outputId": "a637ce65-c283-4776-b3c0-e0e698ac8ad1"
      },
      "source": [
        "xfit = np.linspace(0, 10, 1000)\n",
        "yfit = xfit * a + b\n",
        "\n",
        "plt.scatter(x, y)\n",
        "plt.plot(xfit, yfit);"
      ],
      "execution_count": null,
      "outputs": [
        {
          "output_type": "display_data",
          "data": {
            "image/png": "[encoded data removed]",
            "text/plain": [
              "<Figure size 432x288 with 1 Axes>"
            ]
          },
          "metadata": {
            "needs_background": "light"
          }
        }
      ]
    },
    {
      "cell_type": "code",
      "metadata": {
        "id": "ChsMB8OqgdaU",
        "colab": {
          "base_uri": "https://localhost:8080/"
        },
        "outputId": "08ded403-ee54-455f-9486-5854e44eda1b"
      },
      "source": [
        "print(\"Model slope:    \", a)\n",
        "print(\"Model intercept:\", b)"
      ],
      "execution_count": null,
      "outputs": [
        {
          "output_type": "stream",
          "text": [
            "Model slope:     1.9640612127573367\n",
            "Model intercept: -4.581627125257615\n"
          ],
          "name": "stdout"
        }
      ]
    },
    {
      "cell_type": "markdown",
      "metadata": {
        "id": "yQlLWs7_jNnS"
      },
      "source": [
        "### Using sklearn library"
      ]
    },
    {
      "cell_type": "markdown",
      "metadata": {
        "id": "1ChmcY-Hjf6w"
      },
      "source": [
        "Implementing all the machine learning algorithms from scratch becomes quite cumbersome as the complexity increases. There are optimised libraries which has all this stuff pre-implemented and are quite easy to use.\n",
        "\n",
        "We can directly use Scikit-Learn's ``LinearRegression`` estimator to fit the above data and construct the best-fit line"
      ]
    },
    {
      "cell_type": "code",
      "metadata": {
        "colab": {
          "base_uri": "https://localhost:8080/",
          "height": 265
        },
        "id": "tUAMSfVHjSXM",
        "outputId": "dc652244-1c68-4dd8-a79f-7fb2015f6ae7"
      },
      "source": [
        "from sklearn.linear_model import LinearRegression\n",
        "model = LinearRegression(fit_intercept=True)\n",
        "\n",
        "model.fit(x[:, np.newaxis], y)\n",
        "\n",
        "xfit = np.linspace(0, 10, 1000)\n",
        "yfit = model.predict(xfit[:, np.newaxis])\n",
        "\n",
        "plt.scatter(x, y)\n",
        "plt.plot(xfit, yfit);"
      ],
      "execution_count": null,
      "outputs": [
        {
          "output_type": "display_data",
          "data": {
            "image/png": "[encoded data removed]",
            "text/plain": [
              "<Figure size 432x288 with 1 Axes>"
            ]
          },
          "metadata": {
            "needs_background": "light"
          }
        }
      ]
    },
    {
      "cell_type": "markdown",
      "metadata": {
        "id": "gpTfztdEj6OK"
      },
      "source": [
        "The slope and intercept of the data are contained in the model's fit parameters, which in Scikit-Learn are always marked by a trailing underscore. Here the relevant parameters are *coef_* and *intercept_*:"
      ]
    },
    {
      "cell_type": "code",
      "metadata": {
        "colab": {
          "base_uri": "https://localhost:8080/"
        },
        "id": "1ynD2VJaj9uC",
        "outputId": "d8b175c5-d6e2-406f-b83d-dd21ae86b70a"
      },
      "source": [
        "print(\"Model slope:    \", model.coef_[0])\n",
        "print(\"Model intercept:\", model.intercept_)"
      ],
      "execution_count": null,
      "outputs": [
        {
          "output_type": "stream",
          "text": [
            "Model slope:     2.0272088103606953\n",
            "Model intercept: -4.998577085553204\n"
          ],
          "name": "stdout"
        }
      ]
    },
    {
      "cell_type": "markdown",
      "metadata": {
        "id": "3TGYxLDkkH5S"
      },
      "source": [
        "These results should be close to the parameters obtained from the linear regression we implemented above"
      ]
    },
    {
      "cell_type": "markdown",
      "metadata": {
        "id": "PxeRI7mUkmGR"
      },
      "source": [
        "## Solving a Data Analytics Problem"
      ]
    },
    {
      "cell_type": "markdown",
      "metadata": {
        "id": "v25RyO2ikp9Z"
      },
      "source": [
        "For the purposes of this exercise, let's pretend we're working for a startup that just got funded to create a smartphone app that automatically identifies species of flowers from pictures taken on the smartphone. We're working with a moderately-sized team of data scientists and will be building part of the data analysis pipeline for this app.\n",
        "\n",
        "We've been tasked by our company's Head of Data Science to create a demo machine learning model that takes four measurements from the flowers (sepal length, sepal width, petal length, and petal width) and identifies the species based on those measurements alone. \n",
        "\n",
        "We've been given a [data set](https://github.com/rhiever/Data-Analysis-and-Machine-Learning-Projects/raw/master/example-data-science-notebook/iris-data.csv) from our field researchers to develop the demo, which only includes measurements for three types of Iris flowers."
      ]
    },
    {
      "cell_type": "markdown",
      "metadata": {
        "id": "5BHgrtPomYqY"
      },
      "source": [
        "### Step 1: Checking the data"
      ]
    },
    {
      "cell_type": "markdown",
      "metadata": {
        "id": "564HJ1VHmdn6"
      },
      "source": [
        "The first step is to look at the data we're working with. Even curated data sets from the government can have errors in them, and it's vital that we spot these errors before investing too much time in our analysis.\n",
        "\n",
        "Let's start by reading the data into a pandas DataFrame"
      ]
    },
    {
      "cell_type": "code",
      "metadata": {
        "id": "NYy05hlUmdch",
        "colab": {
          "base_uri": "https://localhost:8080/",
          "height": 203
        },
        "outputId": "1cd4c068-dd5c-473f-819a-fa80c87cd668"
      },
      "source": [
        "import pandas as pd\n",
        "\n",
        "iris_data = pd.read_csv('https://github.com/rhiever/Data-Analysis-and-Machine-Learning-Projects/raw/master/example-data-science-notebook/iris-data.csv')\n",
        "iris_data.head()"
      ],
      "execution_count": null,
      "outputs": [
        {
          "output_type": "execute_result",
          "data": {
            "text/html": [
              "<div>\n",
              "<style scoped>\n",
              "    .dataframe tbody tr th:only-of-type {\n",
              "        vertical-align: middle;\n",
              "    }\n",
              "\n",
              "    .dataframe tbody tr th {\n",
              "        vertical-align: top;\n",
              "    }\n",
              "\n",
              "    .dataframe thead th {\n",
              "        text-align: right;\n",
              "    }\n",
              "</style>\n",
              "<table border=\"1\" class=\"dataframe\">\n",
              "  <thead>\n",
              "    <tr style=\"text-align: right;\">\n",
              "      <th></th>\n",
              "      <th>sepal_length_cm</th>\n",
              "      <th>sepal_width_cm</th>\n",
              "      <th>petal_length_cm</th>\n",
              "      <th>petal_width_cm</th>\n",
              "      <th>class</th>\n",
              "    </tr>\n",
              "  </thead>\n",
              "  <tbody>\n",
              "    <tr>\n",
              "      <th>0</th>\n",
              "      <td>5.1</td>\n",
              "      <td>3.5</td>\n",
              "      <td>1.4</td>\n",
              "      <td>0.2</td>\n",
              "      <td>Iris-setosa</td>\n",
              "    </tr>\n",
              "    <tr>\n",
              "      <th>1</th>\n",
              "      <td>4.9</td>\n",
              "      <td>3.0</td>\n",
              "      <td>1.4</td>\n",
              "      <td>0.2</td>\n",
              "      <td>Iris-setosa</td>\n",
              "    </tr>\n",
              "    <tr>\n",
              "      <th>2</th>\n",
              "      <td>4.7</td>\n",
              "      <td>3.2</td>\n",
              "      <td>1.3</td>\n",
              "      <td>0.2</td>\n",
              "      <td>Iris-setosa</td>\n",
              "    </tr>\n",
              "    <tr>\n",
              "      <th>3</th>\n",
              "      <td>4.6</td>\n",
              "      <td>3.1</td>\n",
              "      <td>1.5</td>\n",
              "      <td>0.2</td>\n",
              "      <td>Iris-setosa</td>\n",
              "    </tr>\n",
              "    <tr>\n",
              "      <th>4</th>\n",
              "      <td>5.0</td>\n",
              "      <td>3.6</td>\n",
              "      <td>1.4</td>\n",
              "      <td>0.2</td>\n",
              "      <td>Iris-setosa</td>\n",
              "    </tr>\n",
              "  </tbody>\n",
              "</table>\n",
              "</div>"
            ],
            "text/plain": [
              "   sepal_length_cm  sepal_width_cm  ...  petal_width_cm        class\n",
              "0              5.1             3.5  ...             0.2  Iris-setosa\n",
              "1              4.9             3.0  ...             0.2  Iris-setosa\n",
              "2              4.7             3.2  ...             0.2  Iris-setosa\n",
              "3              4.6             3.1  ...             0.2  Iris-setosa\n",
              "4              5.0             3.6  ...             0.2  Iris-setosa\n",
              "\n",
              "[5 rows x 5 columns]"
            ]
          },
          "metadata": {},
          "execution_count": 22
        }
      ]
    },
    {
      "cell_type": "markdown",
      "metadata": {
        "id": "z0G6snvlmwYw"
      },
      "source": [
        "The first row in the data file defines the column headers, and the headers are descriptive enough for us to understand what each column represents. The headers even give us the units that the measurements were recorded in, just in case we needed to know at a later point in the project.\n",
        "\n",
        "Each row following the first row represents an entry for a flower: four measurements and one class, which tells us the species of the flower.\n",
        "\n",
        "One of the first things we should look for is missing data. Thankfully, the field researchers already told us that they put a 'NA' into the spreadsheet when they were missing a measurement.\n",
        "\n",
        "We can tell pandas to automatically identify missing values if it knows our missing value marker."
      ]
    },
    {
      "cell_type": "code",
      "metadata": {
        "id": "ldsB0qXtkoea"
      },
      "source": [
        "iris_data = pd.read_csv('https://github.com/rhiever/Data-Analysis-and-Machine-Learning-Projects/raw/master/example-data-science-notebook/iris-data.csv', \n",
        "                        na_values=['NA'])"
      ],
      "execution_count": null,
      "outputs": []
    },
    {
      "cell_type": "markdown",
      "metadata": {
        "id": "q6Fm66Zkomv8"
      },
      "source": [
        "Next, it's always a good idea to look at the distribution of our data — especially the outliers.\n",
        "\n",
        "Let's start by printing out some summary statistics about the data set."
      ]
    },
    {
      "cell_type": "code",
      "metadata": {
        "id": "EUGEvwpBonhI",
        "colab": {
          "base_uri": "https://localhost:8080/",
          "height": 295
        },
        "outputId": "65d08162-d1cd-46a1-a08b-dd86426d1933"
      },
      "source": [
        "iris_data.describe()"
      ],
      "execution_count": null,
      "outputs": [
        {
          "output_type": "execute_result",
          "data": {
            "text/html": [
              "<div>\n",
              "<style scoped>\n",
              "    .dataframe tbody tr th:only-of-type {\n",
              "        vertical-align: middle;\n",
              "    }\n",
              "\n",
              "    .dataframe tbody tr th {\n",
              "        vertical-align: top;\n",
              "    }\n",
              "\n",
              "    .dataframe thead th {\n",
              "        text-align: right;\n",
              "    }\n",
              "</style>\n",
              "<table border=\"1\" class=\"dataframe\">\n",
              "  <thead>\n",
              "    <tr style=\"text-align: right;\">\n",
              "      <th></th>\n",
              "      <th>sepal_length_cm</th>\n",
              "      <th>sepal_width_cm</th>\n",
              "      <th>petal_length_cm</th>\n",
              "      <th>petal_width_cm</th>\n",
              "    </tr>\n",
              "  </thead>\n",
              "  <tbody>\n",
              "    <tr>\n",
              "      <th>count</th>\n",
              "      <td>150.000000</td>\n",
              "      <td>150.000000</td>\n",
              "      <td>150.000000</td>\n",
              "      <td>145.000000</td>\n",
              "    </tr>\n",
              "    <tr>\n",
              "      <th>mean</th>\n",
              "      <td>5.644627</td>\n",
              "      <td>3.054667</td>\n",
              "      <td>3.758667</td>\n",
              "      <td>1.236552</td>\n",
              "    </tr>\n",
              "    <tr>\n",
              "      <th>std</th>\n",
              "      <td>1.312781</td>\n",
              "      <td>0.433123</td>\n",
              "      <td>1.764420</td>\n",
              "      <td>0.755058</td>\n",
              "    </tr>\n",
              "    <tr>\n",
              "      <th>min</th>\n",
              "      <td>0.055000</td>\n",
              "      <td>2.000000</td>\n",
              "      <td>1.000000</td>\n",
              "      <td>0.100000</td>\n",
              "    </tr>\n",
              "    <tr>\n",
              "      <th>25%</th>\n",
              "      <td>5.100000</td>\n",
              "      <td>2.800000</td>\n",
              "      <td>1.600000</td>\n",
              "      <td>0.400000</td>\n",
              "    </tr>\n",
              "    <tr>\n",
              "      <th>50%</th>\n",
              "      <td>5.700000</td>\n",
              "      <td>3.000000</td>\n",
              "      <td>4.350000</td>\n",
              "      <td>1.300000</td>\n",
              "    </tr>\n",
              "    <tr>\n",
              "      <th>75%</th>\n",
              "      <td>6.400000</td>\n",
              "      <td>3.300000</td>\n",
              "      <td>5.100000</td>\n",
              "      <td>1.800000</td>\n",
              "    </tr>\n",
              "    <tr>\n",
              "      <th>max</th>\n",
              "      <td>7.900000</td>\n",
              "      <td>4.400000</td>\n",
              "      <td>6.900000</td>\n",
              "      <td>2.500000</td>\n",
              "    </tr>\n",
              "  </tbody>\n",
              "</table>\n",
              "</div>"
            ],
            "text/plain": [
              "       sepal_length_cm  sepal_width_cm  petal_length_cm  petal_width_cm\n",
              "count       150.000000      150.000000       150.000000      145.000000\n",
              "mean          5.644627        3.054667         3.758667        1.236552\n",
              "std           1.312781        0.433123         1.764420        0.755058\n",
              "min           0.055000        2.000000         1.000000        0.100000\n",
              "25%           5.100000        2.800000         1.600000        0.400000\n",
              "50%           5.700000        3.000000         4.350000        1.300000\n",
              "75%           6.400000        3.300000         5.100000        1.800000\n",
              "max           7.900000        4.400000         6.900000        2.500000"
            ]
          },
          "metadata": {},
          "execution_count": 24
        }
      ]
    },
    {
      "cell_type": "markdown",
      "metadata": {
        "id": "BEA8e8aRoss7"
      },
      "source": [
        "We can see several useful values from this table. For example, we see that five `petal_width_cm` entries are missing.\n",
        "\n",
        "However, tables like this are rarely useful unless we know that our data should fall in a particular range. It's usually better to visualize the data in some way. Visualization makes outliers and errors immediately stand out, whereas they might go unnoticed in a large table of numbers."
      ]
    },
    {
      "cell_type": "code",
      "metadata": {
        "id": "ab2I-2roo1uw",
        "colab": {
          "base_uri": "https://localhost:8080/",
          "height": 878
        },
        "outputId": "38d75d08-f8f8-4f88-b6d3-186e4c0af30a"
      },
      "source": [
        "sns.pairplot(iris_data.dropna(), hue='class')"
      ],
      "execution_count": null,
      "outputs": [
        {
          "output_type": "stream",
          "text": [
            "/usr/local/lib/python3.7/dist-packages/seaborn/distributions.py:306: UserWarning: Dataset has 0 variance; skipping density estimate.\n",
            "  warnings.warn(msg, UserWarning)\n",
            "/usr/local/lib/python3.7/dist-packages/seaborn/distributions.py:306: UserWarning: Dataset has 0 variance; skipping density estimate.\n",
            "  warnings.warn(msg, UserWarning)\n",
            "/usr/local/lib/python3.7/dist-packages/seaborn/distributions.py:306: UserWarning: Dataset has 0 variance; skipping density estimate.\n",
            "  warnings.warn(msg, UserWarning)\n",
            "/usr/local/lib/python3.7/dist-packages/seaborn/distributions.py:306: UserWarning: Dataset has 0 variance; skipping density estimate.\n",
            "  warnings.warn(msg, UserWarning)\n"
          ],
          "name": "stderr"
        },
        {
          "output_type": "execute_result",
          "data": {
            "text/plain": [
              "<seaborn.axisgrid.PairGrid at 0x7f001b596a50>"
            ]
          },
          "metadata": {},
          "execution_count": 25
        },
        {
          "output_type": "display_data",
          "data": {
            "image/png": "[encoded data removed]",
            "text/plain": [
              "<Figure size 823.25x720 with 20 Axes>"
            ]
          },
          "metadata": {
            "needs_background": "light"
          }
        }
      ]
    },
    {
      "cell_type": "markdown",
      "metadata": {
        "id": "F2EWDQb3pFjw"
      },
      "source": [
        "From the scatterplot matrix, we can already see some issues with the data set:\n",
        "\n",
        "1. There are five classes when there should only be three, meaning there were some coding errors.\n",
        "\n",
        "2. There are some clear outliers in the measurements that may be erroneous: one `sepal_width_cm` entry for `Iris-setosa` falls well outside its normal range, and several `sepal_length_cm` entries for `Iris-versicolor` are near-zero for some reason.\n",
        "\n",
        "3. We had to drop those rows with missing values.\n",
        "\n",
        "In all of these cases, we need to figure out what to do with the erroneous data."
      ]
    },
    {
      "cell_type": "markdown",
      "metadata": {
        "id": "0uIblWAypg4o"
      },
      "source": [
        "### Step 2: Cleaning the data"
      ]
    },
    {
      "cell_type": "markdown",
      "metadata": {
        "id": "U4bisVfkpkpI"
      },
      "source": [
        "Now that we've identified several errors in the data set, we need to fix them before we proceed with the analysis. Let's walk through the issues one-by-one."
      ]
    },
    {
      "cell_type": "markdown",
      "metadata": {
        "id": "Z4_LBsg2pwuY"
      },
      "source": [
        "#### Fixing Class names"
      ]
    },
    {
      "cell_type": "markdown",
      "metadata": {
        "id": "rLVkk82spoVH"
      },
      "source": [
        "After talking with the field researchers, it sounds like one of them forgot to add `Iris-` before their `Iris-versicolor` entries. The other extraneous class, `Iris-setossa`, was simply a typo that they forgot to fix.\n",
        "\n",
        "Let's use the DataFrame to fix these errors."
      ]
    },
    {
      "cell_type": "code",
      "metadata": {
        "colab": {
          "base_uri": "https://localhost:8080/",
          "height": 212
        },
        "id": "jnyEvWh1pfiI",
        "outputId": "197fd2f1-77ce-4458-c91b-0da80669ad85"
      },
      "source": [
        "iris_data.loc[iris_data['class'] == 'versicolor', 'class'] = 'Iris-versicolor'\n",
        "iris_data.loc[iris_data['class'] == 'Iris-setossa', 'class'] = 'Iris-setosa'\n",
        "\n",
        "iris_data['class'].unique()"
      ],
      "execution_count": null,
      "outputs": [
        {
          "output_type": "error",
          "ename": "NameError",
          "evalue": "ignored",
          "traceback": [
            "\u001b[0;31m---------------------------------------------------------------------------\u001b[0m",
            "\u001b[0;31mNameError\u001b[0m                                 Traceback (most recent call last)",
            "\u001b[0;32m<ipython-input-4-95ac2deceead>\u001b[0m in \u001b[0;36m<module>\u001b[0;34m()\u001b[0m\n\u001b[0;32m----> 1\u001b[0;31m \u001b[0miris_data\u001b[0m\u001b[0;34m.\u001b[0m\u001b[0mloc\u001b[0m\u001b[0;34m[\u001b[0m\u001b[0miris_data\u001b[0m\u001b[0;34m[\u001b[0m\u001b[0;34m'class'\u001b[0m\u001b[0;34m]\u001b[0m \u001b[0;34m==\u001b[0m \u001b[0;34m'versicolor'\u001b[0m\u001b[0;34m,\u001b[0m \u001b[0;34m'class'\u001b[0m\u001b[0;34m]\u001b[0m \u001b[0;34m=\u001b[0m \u001b[0;34m'Iris-versicolor'\u001b[0m\u001b[0;34m\u001b[0m\u001b[0;34m\u001b[0m\u001b[0m\n\u001b[0m\u001b[1;32m      2\u001b[0m \u001b[0miris_data\u001b[0m\u001b[0;34m.\u001b[0m\u001b[0mloc\u001b[0m\u001b[0;34m[\u001b[0m\u001b[0miris_data\u001b[0m\u001b[0;34m[\u001b[0m\u001b[0;34m'class'\u001b[0m\u001b[0;34m]\u001b[0m \u001b[0;34m==\u001b[0m \u001b[0;34m'Iris-setossa'\u001b[0m\u001b[0;34m,\u001b[0m \u001b[0;34m'class'\u001b[0m\u001b[0;34m]\u001b[0m \u001b[0;34m=\u001b[0m \u001b[0;34m'Iris-setosa'\u001b[0m\u001b[0;34m\u001b[0m\u001b[0;34m\u001b[0m\u001b[0m\n\u001b[1;32m      3\u001b[0m \u001b[0;34m\u001b[0m\u001b[0m\n\u001b[1;32m      4\u001b[0m \u001b[0miris_data\u001b[0m\u001b[0;34m[\u001b[0m\u001b[0;34m'class'\u001b[0m\u001b[0;34m]\u001b[0m\u001b[0;34m.\u001b[0m\u001b[0munique\u001b[0m\u001b[0;34m(\u001b[0m\u001b[0;34m)\u001b[0m\u001b[0;34m\u001b[0m\u001b[0;34m\u001b[0m\u001b[0m\n",
            "\u001b[0;31mNameError\u001b[0m: name 'iris_data' is not defined"
          ]
        }
      ]
    },
    {
      "cell_type": "markdown",
      "metadata": {
        "id": "x_wkEA5Ipurx"
      },
      "source": [
        "#### Fixing outliers"
      ]
    },
    {
      "cell_type": "markdown",
      "metadata": {
        "id": "MzoCyTFhp5c4"
      },
      "source": [
        "Fixing outliers can be tricky business. It's rarely clear whether the outlier was caused by measurement error, recording the data in improper units, or if the outlier is a real anomaly. For that reason, we should be judicious when working with outliers: if we decide to exclude any data, we need to make sure to document what data we excluded and provide solid reasoning for excluding that data."
      ]
    },
    {
      "cell_type": "markdown",
      "metadata": {
        "id": "nMUcOed6p78_"
      },
      "source": [
        "In the case of the one anomalous entry for `Iris-setosa`, let's say our field researchers know that it's impossible for `Iris-setosa` to have a sepal width below 2.5 cm. Clearly this entry was made in error, and we're better off just scrapping the entry than spending hours finding out what happened."
      ]
    },
    {
      "cell_type": "code",
      "metadata": {
        "id": "74VX_jTup11w"
      },
      "source": [
        "# This line drops any 'Iris-setosa' rows with a separal width less than 2.5 cm\n",
        "iris_data = iris_data.loc[(iris_data['class'] != 'Iris-setosa') | (iris_data['sepal_width_cm'] >= 2.5)]\n",
        "iris_data.loc[iris_data['class'] == 'Iris-setosa', 'sepal_width_cm'].hist()"
      ],
      "execution_count": null,
      "outputs": []
    },
    {
      "cell_type": "markdown",
      "metadata": {
        "id": "_xpPptbjqHjF"
      },
      "source": [
        "The next data issue to address is the several near-zero sepal lengths for the `Iris-versicolor` rows. Let's take a look at those rows."
      ]
    },
    {
      "cell_type": "code",
      "metadata": {
        "id": "hUAKocYVqBxL"
      },
      "source": [
        "iris_data.loc[(iris_data['class'] == 'Iris-versicolor') &\n",
        "              (iris_data['sepal_length_cm'] < 1.0)]"
      ],
      "execution_count": null,
      "outputs": []
    },
    {
      "cell_type": "markdown",
      "metadata": {
        "id": "PEnQTOTNqN1y"
      },
      "source": [
        "All of these near-zero `sepal_length_cm` entries seem to be off by two orders of magnitude, as if they had been recorded in meters instead of centimeters.\n",
        "\n",
        "After some brief correspondence with the field researchers, we find that one of them forgot to convert those measurements to centimeters. Let's do that for them."
      ]
    },
    {
      "cell_type": "code",
      "metadata": {
        "id": "uOWTZXZXqS-Z"
      },
      "source": [
        "iris_data.loc[(iris_data['class'] == 'Iris-versicolor') &\n",
        "              (iris_data['sepal_length_cm'] < 1.0),\n",
        "              'sepal_length_cm'] *= 100.0\n",
        "\n",
        "iris_data.loc[iris_data['class'] == 'Iris-versicolor', 'sepal_length_cm'].hist()"
      ],
      "execution_count": null,
      "outputs": []
    },
    {
      "cell_type": "markdown",
      "metadata": {
        "id": "e1ACMz_TqXRq"
      },
      "source": [
        "#### Handling Missing Values"
      ]
    },
    {
      "cell_type": "markdown",
      "metadata": {
        "id": "Rr1SkpHVqenj"
      },
      "source": [
        "Let's take a look at the rows with missing values:"
      ]
    },
    {
      "cell_type": "code",
      "metadata": {
        "colab": {
          "base_uri": "https://localhost:8080/",
          "height": 212
        },
        "id": "ZR5jad4JqZxC",
        "outputId": "3be6762b-3bf7-48c9-c77f-ebd8507b2c8d"
      },
      "source": [
        "iris_data.loc[(iris_data['sepal_length_cm'].isnull()) |\n",
        "              (iris_data['sepal_width_cm'].isnull()) |\n",
        "              (iris_data['petal_length_cm'].isnull()) |\n",
        "              (iris_data['petal_width_cm'].isnull())]"
      ],
      "execution_count": null,
      "outputs": [
        {
          "output_type": "error",
          "ename": "NameError",
          "evalue": "ignored",
          "traceback": [
            "\u001b[0;31m---------------------------------------------------------------------------\u001b[0m",
            "\u001b[0;31mNameError\u001b[0m                                 Traceback (most recent call last)",
            "\u001b[0;32m<ipython-input-5-bc61ce40202e>\u001b[0m in \u001b[0;36m<module>\u001b[0;34m()\u001b[0m\n\u001b[0;32m----> 1\u001b[0;31m iris_data.loc[(iris_data['sepal_length_cm'].isnull()) |\n\u001b[0m\u001b[1;32m      2\u001b[0m               \u001b[0;34m(\u001b[0m\u001b[0miris_data\u001b[0m\u001b[0;34m[\u001b[0m\u001b[0;34m'sepal_width_cm'\u001b[0m\u001b[0;34m]\u001b[0m\u001b[0;34m.\u001b[0m\u001b[0misnull\u001b[0m\u001b[0;34m(\u001b[0m\u001b[0;34m)\u001b[0m\u001b[0;34m)\u001b[0m \u001b[0;34m|\u001b[0m\u001b[0;34m\u001b[0m\u001b[0;34m\u001b[0m\u001b[0m\n\u001b[1;32m      3\u001b[0m               \u001b[0;34m(\u001b[0m\u001b[0miris_data\u001b[0m\u001b[0;34m[\u001b[0m\u001b[0;34m'petal_length_cm'\u001b[0m\u001b[0;34m]\u001b[0m\u001b[0;34m.\u001b[0m\u001b[0misnull\u001b[0m\u001b[0;34m(\u001b[0m\u001b[0;34m)\u001b[0m\u001b[0;34m)\u001b[0m \u001b[0;34m|\u001b[0m\u001b[0;34m\u001b[0m\u001b[0;34m\u001b[0m\u001b[0m\n\u001b[1;32m      4\u001b[0m               (iris_data['petal_width_cm'].isnull())]\n",
            "\u001b[0;31mNameError\u001b[0m: name 'iris_data' is not defined"
          ]
        }
      ]
    },
    {
      "cell_type": "markdown",
      "metadata": {
        "id": "eER2CdgcqgD4"
      },
      "source": [
        "It's not ideal that we had to drop those rows, especially considering they're all `Iris-setosa` entries. Since it seems like the missing data is systematic — all of the missing values are in the same column for the same Iris type — this error could potentially bias our analysis.\n",
        "\n",
        "One way to deal with missing data is mean imputation: If we know that the values for a measurement fall in a certain range, we can fill in empty values with the average of that measurement."
      ]
    },
    {
      "cell_type": "markdown",
      "metadata": {
        "id": "s3TWd262qqwq"
      },
      "source": [
        "Let's see if we can do that here:"
      ]
    },
    {
      "cell_type": "code",
      "metadata": {
        "colab": {
          "base_uri": "https://localhost:8080/",
          "height": 162
        },
        "id": "jKdupXg0qfVK",
        "outputId": "ef5b33e3-7bd5-4ec6-eee0-c53ab99b975f"
      },
      "source": [
        "iris_data.loc[iris_data['class'] == 'Iris-setosa', 'petal_width_cm'].hist()"
      ],
      "execution_count": null,
      "outputs": [
        {
          "output_type": "error",
          "ename": "NameError",
          "evalue": "ignored",
          "traceback": [
            "\u001b[0;31m---------------------------------------------------------------------------\u001b[0m",
            "\u001b[0;31mNameError\u001b[0m                                 Traceback (most recent call last)",
            "\u001b[0;32m<ipython-input-6-9ed0aaccd1c8>\u001b[0m in \u001b[0;36m<module>\u001b[0;34m()\u001b[0m\n\u001b[0;32m----> 1\u001b[0;31m \u001b[0miris_data\u001b[0m\u001b[0;34m.\u001b[0m\u001b[0mloc\u001b[0m\u001b[0;34m[\u001b[0m\u001b[0miris_data\u001b[0m\u001b[0;34m[\u001b[0m\u001b[0;34m'class'\u001b[0m\u001b[0;34m]\u001b[0m \u001b[0;34m==\u001b[0m \u001b[0;34m'Iris-setosa'\u001b[0m\u001b[0;34m,\u001b[0m \u001b[0;34m'petal_width_cm'\u001b[0m\u001b[0;34m]\u001b[0m\u001b[0;34m.\u001b[0m\u001b[0mhist\u001b[0m\u001b[0;34m(\u001b[0m\u001b[0;34m)\u001b[0m\u001b[0;34m\u001b[0m\u001b[0;34m\u001b[0m\u001b[0m\n\u001b[0m",
            "\u001b[0;31mNameError\u001b[0m: name 'iris_data' is not defined"
          ]
        }
      ]
    },
    {
      "cell_type": "markdown",
      "metadata": {
        "id": "O4pGDsgBqvKF"
      },
      "source": [
        "Most of the petal widths for `Iris-setosa` fall within the 0.2-0.3 range, so let's fill in these entries with the average measured petal width."
      ]
    },
    {
      "cell_type": "code",
      "metadata": {
        "id": "MJNI1m7aqwMJ"
      },
      "source": [
        "average_petal_width = iris_data.loc[iris_data['class'] == 'Iris-setosa', 'petal_width_cm'].mean()\n",
        "\n",
        "iris_data.loc[(iris_data['class'] == 'Iris-setosa') &\n",
        "              (iris_data['petal_width_cm'].isnull()),\n",
        "              'petal_width_cm'] = average_petal_width\n",
        "\n",
        "iris_data.loc[(iris_data['class'] == 'Iris-setosa') &\n",
        "              (iris_data['petal_width_cm'] == average_petal_width)]"
      ],
      "execution_count": null,
      "outputs": []
    },
    {
      "cell_type": "code",
      "metadata": {
        "id": "j9bmsiZVq0Ko"
      },
      "source": [
        "# Checking again for any missing values\n",
        "iris_data.loc[(iris_data['sepal_length_cm'].isnull()) |\n",
        "              (iris_data['sepal_width_cm'].isnull()) |\n",
        "              (iris_data['petal_length_cm'].isnull()) |\n",
        "              (iris_data['petal_width_cm'].isnull())]"
      ],
      "execution_count": null,
      "outputs": []
    },
    {
      "cell_type": "markdown",
      "metadata": {
        "id": "gFfvEcJlq9XP"
      },
      "source": [
        "After all this work, let's save this DataFrame into a new variable"
      ]
    },
    {
      "cell_type": "code",
      "metadata": {
        "id": "mvPYz9pAq3-X"
      },
      "source": [
        "iris_data_clean = iris_data"
      ],
      "execution_count": null,
      "outputs": []
    },
    {
      "cell_type": "markdown",
      "metadata": {
        "id": "tmkXnCLQrF1t"
      },
      "source": [
        "Now, let's take a look at the scatterplot matrix now that we've tidied the data."
      ]
    },
    {
      "cell_type": "code",
      "metadata": {
        "id": "ALk9GqJKrGAY"
      },
      "source": [
        "sns.pairplot(iris_data_clean, hue='class')"
      ],
      "execution_count": null,
      "outputs": []
    },
    {
      "cell_type": "markdown",
      "metadata": {
        "id": "bvZABBh2rWcf"
      },
      "source": [
        "### Step 3: Exploratory Analysis"
      ]
    },
    {
      "cell_type": "markdown",
      "metadata": {
        "id": "87DV4RSIrdOZ"
      },
      "source": [
        "Now after spending entirely too much time tidying our data, we can start analyzing it. Exploratory analysis is the step where we start delving deeper into the data set beyond the outliers and errors, we analyze things like correlations between various features of the data, confounding factors that explain these correlations, etc."
      ]
    },
    {
      "cell_type": "markdown",
      "metadata": {
        "id": "vpmhKrHWrsUc"
      },
      "source": [
        "Let's return to that scatterplot matrix that we used earlier."
      ]
    },
    {
      "cell_type": "code",
      "metadata": {
        "colab": {
          "base_uri": "https://localhost:8080/",
          "height": 162
        },
        "id": "EKlZlAdBrZKv",
        "outputId": "307651f5-eded-4dbe-fa99-9e1ce5e13187"
      },
      "source": [
        "sns.pairplot(iris_data_clean, hue='class')"
      ],
      "execution_count": null,
      "outputs": [
        {
          "output_type": "error",
          "ename": "NameError",
          "evalue": "ignored",
          "traceback": [
            "\u001b[0;31m---------------------------------------------------------------------------\u001b[0m",
            "\u001b[0;31mNameError\u001b[0m                                 Traceback (most recent call last)",
            "\u001b[0;32m<ipython-input-7-240ac45da223>\u001b[0m in \u001b[0;36m<module>\u001b[0;34m()\u001b[0m\n\u001b[0;32m----> 1\u001b[0;31m \u001b[0msns\u001b[0m\u001b[0;34m.\u001b[0m\u001b[0mpairplot\u001b[0m\u001b[0;34m(\u001b[0m\u001b[0miris_data_clean\u001b[0m\u001b[0;34m,\u001b[0m \u001b[0mhue\u001b[0m\u001b[0;34m=\u001b[0m\u001b[0;34m'class'\u001b[0m\u001b[0;34m)\u001b[0m\u001b[0;34m\u001b[0m\u001b[0;34m\u001b[0m\u001b[0m\n\u001b[0m",
            "\u001b[0;31mNameError\u001b[0m: name 'sns' is not defined"
          ]
        }
      ]
    },
    {
      "cell_type": "markdown",
      "metadata": {
        "id": "o2tUj2HYr22v"
      },
      "source": [
        "There's a strange distribution of the petal measurements because of the different species. This is actually great news for our classification task since it means that the petal measurements will make it easy to distinguish between `Iris-setosa` and the other `Iris` types. Distinguishing `Iris-versicolor` and `Iris-virginica` will prove more difficult given how much their measurements overlap."
      ]
    },
    {
      "cell_type": "markdown",
      "metadata": {
        "id": "4a7j9plHsNzi"
      },
      "source": [
        "There are also correlations between petal length and petal width, as well as sepal length and sepal width. The field biologists assure us that this is to be expected: Longer flower petals also tend to be wider, and the same applies for sepals.\n",
        "\n",
        "We can also make violin plots of the data to compare the measurement distributions of the classes."
      ]
    },
    {
      "cell_type": "code",
      "metadata": {
        "colab": {
          "base_uri": "https://localhost:8080/",
          "height": 229
        },
        "id": "fZCMEQMMr2rB",
        "outputId": "e1d5d18a-a5fe-45b5-c371-e61fe595cc59"
      },
      "source": [
        "plt.figure(figsize=(10, 10))\n",
        "\n",
        "for column_index, column in enumerate(iris_data_clean.columns):\n",
        "    if column == 'class':\n",
        "        continue\n",
        "    plt.subplot(2, 2, column_index + 1)\n",
        "    sns.violinplot(x='class', y=column, data=iris_data_clean)"
      ],
      "execution_count": null,
      "outputs": [
        {
          "output_type": "error",
          "ename": "NameError",
          "evalue": "ignored",
          "traceback": [
            "\u001b[0;31m---------------------------------------------------------------------------\u001b[0m",
            "\u001b[0;31mNameError\u001b[0m                                 Traceback (most recent call last)",
            "\u001b[0;32m<ipython-input-8-ee57c1cb7518>\u001b[0m in \u001b[0;36m<module>\u001b[0;34m()\u001b[0m\n\u001b[0;32m----> 1\u001b[0;31m \u001b[0mplt\u001b[0m\u001b[0;34m.\u001b[0m\u001b[0mfigure\u001b[0m\u001b[0;34m(\u001b[0m\u001b[0mfigsize\u001b[0m\u001b[0;34m=\u001b[0m\u001b[0;34m(\u001b[0m\u001b[0;36m10\u001b[0m\u001b[0;34m,\u001b[0m \u001b[0;36m10\u001b[0m\u001b[0;34m)\u001b[0m\u001b[0;34m)\u001b[0m\u001b[0;34m\u001b[0m\u001b[0;34m\u001b[0m\u001b[0m\n\u001b[0m\u001b[1;32m      2\u001b[0m \u001b[0;34m\u001b[0m\u001b[0m\n\u001b[1;32m      3\u001b[0m \u001b[0;32mfor\u001b[0m \u001b[0mcolumn_index\u001b[0m\u001b[0;34m,\u001b[0m \u001b[0mcolumn\u001b[0m \u001b[0;32min\u001b[0m \u001b[0menumerate\u001b[0m\u001b[0;34m(\u001b[0m\u001b[0miris_data_clean\u001b[0m\u001b[0;34m.\u001b[0m\u001b[0mcolumns\u001b[0m\u001b[0;34m)\u001b[0m\u001b[0;34m:\u001b[0m\u001b[0;34m\u001b[0m\u001b[0;34m\u001b[0m\u001b[0m\n\u001b[1;32m      4\u001b[0m     \u001b[0;32mif\u001b[0m \u001b[0mcolumn\u001b[0m \u001b[0;34m==\u001b[0m \u001b[0;34m'class'\u001b[0m\u001b[0;34m:\u001b[0m\u001b[0;34m\u001b[0m\u001b[0;34m\u001b[0m\u001b[0m\n\u001b[1;32m      5\u001b[0m         \u001b[0;32mcontinue\u001b[0m\u001b[0;34m\u001b[0m\u001b[0;34m\u001b[0m\u001b[0m\n",
            "\u001b[0;31mNameError\u001b[0m: name 'plt' is not defined"
          ]
        }
      ]
    },
    {
      "cell_type": "markdown",
      "metadata": {
        "id": "r0IrLmWUsav_"
      },
      "source": [
        "### Step 4: Classification"
      ]
    },
    {
      "cell_type": "markdown",
      "metadata": {
        "id": "wMgebXMqslOQ"
      },
      "source": [
        "As tiresome as it can be, tidying and exploring our data is a vital component to any data analysis. If we had jumped straight to the modeling step, we would have created a faulty classification model. Remember, your model is as good as the data you feed it."
      ]
    },
    {
      "cell_type": "markdown",
      "metadata": {
        "id": "_qlLYzMGszj6"
      },
      "source": [
        "As the first step, let's split the data into a training set and testing set"
      ]
    },
    {
      "cell_type": "code",
      "metadata": {
        "id": "_Klvbr46sgd4",
        "colab": {
          "base_uri": "https://localhost:8080/",
          "height": 229
        },
        "outputId": "2824e7ef-d0f0-46bf-aea8-d9fabc3a6e66"
      },
      "source": [
        "# We're using all four measurements as inputs\n",
        "# Note that scikit-learn expects each entry to be a list of values, e.g.,\n",
        "# [ [val1, val2, val3],\n",
        "#   [val1, val2, val3],\n",
        "#   ... ]\n",
        "# such that our input data set is represented as a list of lists\n",
        "\n",
        "# We can extract the data in this format from pandas like this:\n",
        "all_inputs = iris_data_clean[['sepal_length_cm', 'sepal_width_cm',\n",
        "                             'petal_length_cm', 'petal_width_cm']].values\n",
        "\n",
        "# Similarly, we can extract the class labels\n",
        "all_labels = iris_data_clean['class'].values\n",
        "\n",
        "# Make sure that you don't mix up the order of the entries\n",
        "# all_inputs[5] inputs should correspond to the class in all_labels[5]\n",
        "\n",
        "# Here's what a subset of our inputs looks like:\n",
        "all_inputs[:5]"
      ],
      "execution_count": null,
      "outputs": [
        {
          "output_type": "error",
          "ename": "NameError",
          "evalue": "ignored",
          "traceback": [
            "\u001b[0;31m---------------------------------------------------------------------------\u001b[0m",
            "\u001b[0;31mNameError\u001b[0m                                 Traceback (most recent call last)",
            "\u001b[0;32m<ipython-input-26-36edb32b362a>\u001b[0m in \u001b[0;36m<module>\u001b[0;34m()\u001b[0m\n\u001b[1;32m      7\u001b[0m \u001b[0;34m\u001b[0m\u001b[0m\n\u001b[1;32m      8\u001b[0m \u001b[0;31m# We can extract the data in this format from pandas like this:\u001b[0m\u001b[0;34m\u001b[0m\u001b[0;34m\u001b[0m\u001b[0;34m\u001b[0m\u001b[0m\n\u001b[0;32m----> 9\u001b[0;31m all_inputs = iris_data_clean[['sepal_length_cm', 'sepal_width_cm',\n\u001b[0m\u001b[1;32m     10\u001b[0m                              'petal_length_cm', 'petal_width_cm']].values\n\u001b[1;32m     11\u001b[0m \u001b[0;34m\u001b[0m\u001b[0m\n",
            "\u001b[0;31mNameError\u001b[0m: name 'iris_data_clean' is not defined"
          ]
        }
      ]
    },
    {
      "cell_type": "code",
      "metadata": {
        "id": "Iph5pMDhs624",
        "colab": {
          "base_uri": "https://localhost:8080/",
          "height": 195
        },
        "outputId": "3878b30c-b26c-4c3c-865a-c1d3d1081b2e"
      },
      "source": [
        "from sklearn.model_selection import train_test_split\n",
        "\n",
        "(training_inputs,\n",
        " testing_inputs,\n",
        " training_classes,\n",
        " testing_classes) = train_test_split(all_inputs, all_labels, test_size=0.25)"
      ],
      "execution_count": null,
      "outputs": [
        {
          "output_type": "error",
          "ename": "NameError",
          "evalue": "ignored",
          "traceback": [
            "\u001b[0;31m---------------------------------------------------------------------------\u001b[0m",
            "\u001b[0;31mNameError\u001b[0m                                 Traceback (most recent call last)",
            "\u001b[0;32m<ipython-input-27-e4498d2cb0bb>\u001b[0m in \u001b[0;36m<module>\u001b[0;34m()\u001b[0m\n\u001b[1;32m      4\u001b[0m  \u001b[0mtesting_inputs\u001b[0m\u001b[0;34m,\u001b[0m\u001b[0;34m\u001b[0m\u001b[0;34m\u001b[0m\u001b[0m\n\u001b[1;32m      5\u001b[0m  \u001b[0mtraining_classes\u001b[0m\u001b[0;34m,\u001b[0m\u001b[0;34m\u001b[0m\u001b[0;34m\u001b[0m\u001b[0m\n\u001b[0;32m----> 6\u001b[0;31m  testing_classes) = train_test_split(all_inputs, all_labels, test_size=0.25)\n\u001b[0m",
            "\u001b[0;31mNameError\u001b[0m: name 'all_inputs' is not defined"
          ]
        }
      ]
    },
    {
      "cell_type": "markdown",
      "metadata": {
        "id": "tsPjLoyis_m6"
      },
      "source": [
        "With our data split, we can start fitting models to our data. Here's where you come in. Our company's Head of Data is all about eco-friendly and putting a stop to pollution. As a result, he loves tree-based classifiers. You have to build a tree-based classifier and train it on the training set. A template for the same has been provided below.\n",
        "\n",
        "Tweak various parameters until you achieve a good enough score"
      ]
    },
    {
      "cell_type": "code",
      "metadata": {
        "id": "anUfxwDst-Yf"
      },
      "source": [
        "# from sklearn... import ....\n",
        "\n",
        "# Create the classifier\n",
        "classifier = # ..."
      ],
      "execution_count": null,
      "outputs": []
    },
    {
      "cell_type": "code",
      "metadata": {
        "id": "vl8c8gits9qA"
      },
      "source": [
        "# Train the classifier on the training set\n",
        "classifier.fit(training_inputs, training_classes)\n",
        "\n",
        "# Validate the classifier on the testing set using classification accuracy\n",
        "classifier.score(testing_inputs, testing_classes)"
      ],
      "execution_count": null,
      "outputs": []
    }
  ]
}